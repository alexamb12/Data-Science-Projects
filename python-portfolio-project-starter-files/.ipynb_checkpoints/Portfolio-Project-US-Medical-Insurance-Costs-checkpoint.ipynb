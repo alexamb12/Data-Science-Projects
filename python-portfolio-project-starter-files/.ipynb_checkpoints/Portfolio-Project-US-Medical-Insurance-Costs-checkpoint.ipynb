{
 "cells": [
  {
   "cell_type": "markdown",
   "metadata": {},
   "source": [
    "# U.S. Medical Insurance Costs \n",
    "\n",
    "## Overview:\n",
    "\n",
    "We are given a dataset, `insurance.csv`, that consists of the following information for each patient:\n",
    "\n",
    "* Age\n",
    "* Sex\n",
    "* BMI\n",
    "* Number of Children\n",
    "* Smoker/Non-Smoker\n",
    "* Region\n",
    "* Insurance Charges\n",
    "\n",
    "## Project Goals:\n",
    "\n",
    "For this project, we are going to examine the data and answer the following questions:\n",
    "\n",
    "1. What is the average age of the patients in the dataset?\n",
    "2. Where are the majority of the patients from?\n",
    "3. What is the average age of someone with at least one child?\n",
    "4. What is the difference in costs between females and males with no children?\n",
    "5. Does the region where the person is located affect insurance costs?\n"
   ]
  },
  {
   "cell_type": "markdown",
   "metadata": {},
   "source": [
    "First, let's import and read the data and make any modifications (if necessary):"
   ]
  },
  {
   "cell_type": "code",
   "execution_count": 168,
   "metadata": {},
   "outputs": [
    {
     "data": {
      "text/html": [
       "<div>\n",
       "<style scoped>\n",
       "    .dataframe tbody tr th:only-of-type {\n",
       "        vertical-align: middle;\n",
       "    }\n",
       "\n",
       "    .dataframe tbody tr th {\n",
       "        vertical-align: top;\n",
       "    }\n",
       "\n",
       "    .dataframe thead th {\n",
       "        text-align: right;\n",
       "    }\n",
       "</style>\n",
       "<table border=\"1\" class=\"dataframe\">\n",
       "  <thead>\n",
       "    <tr style=\"text-align: right;\">\n",
       "      <th></th>\n",
       "      <th>Age</th>\n",
       "      <th>Sex</th>\n",
       "      <th>BMI</th>\n",
       "      <th>Num Children</th>\n",
       "      <th>Smoker</th>\n",
       "      <th>Region</th>\n",
       "      <th>Charges (USD $)</th>\n",
       "    </tr>\n",
       "  </thead>\n",
       "  <tbody>\n",
       "    <tr>\n",
       "      <th>0</th>\n",
       "      <td>19</td>\n",
       "      <td>female</td>\n",
       "      <td>27.900</td>\n",
       "      <td>0</td>\n",
       "      <td>yes</td>\n",
       "      <td>Southwest</td>\n",
       "      <td>16884.92</td>\n",
       "    </tr>\n",
       "    <tr>\n",
       "      <th>1</th>\n",
       "      <td>18</td>\n",
       "      <td>male</td>\n",
       "      <td>33.770</td>\n",
       "      <td>1</td>\n",
       "      <td>no</td>\n",
       "      <td>Southeast</td>\n",
       "      <td>1725.55</td>\n",
       "    </tr>\n",
       "    <tr>\n",
       "      <th>2</th>\n",
       "      <td>28</td>\n",
       "      <td>male</td>\n",
       "      <td>33.000</td>\n",
       "      <td>3</td>\n",
       "      <td>no</td>\n",
       "      <td>Southeast</td>\n",
       "      <td>4449.46</td>\n",
       "    </tr>\n",
       "    <tr>\n",
       "      <th>3</th>\n",
       "      <td>33</td>\n",
       "      <td>male</td>\n",
       "      <td>22.705</td>\n",
       "      <td>0</td>\n",
       "      <td>no</td>\n",
       "      <td>Northwest</td>\n",
       "      <td>21984.47</td>\n",
       "    </tr>\n",
       "    <tr>\n",
       "      <th>4</th>\n",
       "      <td>32</td>\n",
       "      <td>male</td>\n",
       "      <td>28.880</td>\n",
       "      <td>0</td>\n",
       "      <td>no</td>\n",
       "      <td>Northwest</td>\n",
       "      <td>3866.86</td>\n",
       "    </tr>\n",
       "  </tbody>\n",
       "</table>\n",
       "</div>"
      ],
      "text/plain": [
       "   Age     Sex     BMI  Num Children Smoker     Region  Charges (USD $)\n",
       "0   19  female  27.900             0    yes  Southwest         16884.92\n",
       "1   18    male  33.770             1     no  Southeast          1725.55\n",
       "2   28    male  33.000             3     no  Southeast          4449.46\n",
       "3   33    male  22.705             0     no  Northwest         21984.47\n",
       "4   32    male  28.880             0     no  Northwest          3866.86"
      ]
     },
     "execution_count": 168,
     "metadata": {},
     "output_type": "execute_result"
    }
   ],
   "source": [
    "import pandas as pd\n",
    "data = pd.read_csv('insurance.csv')\n",
    "\n",
    "# modify any columns for readability:\n",
    "\n",
    "# renamed columns\n",
    "data.columns = ['Age', 'Sex', 'BMI', 'Num Children', 'Smoker', 'Region', 'Charges (USD $)']\n",
    "\n",
    "# rounded the values in the Charges column to match generic USD $ format\n",
    "data['Charges (USD $)'] = data['Charges (USD $)'].round(2)\n",
    "\n",
    "# used .title() to captalize the first letter for each region name\n",
    "data['Region'] = data['Region'].apply(lambda x: x.title())\n",
    "\n",
    "# display the first 5 rows of the dataset\n",
    "data.head()"
   ]
  },
  {
   "cell_type": "markdown",
   "metadata": {},
   "source": [
    "#### Question 1: What is the average age of the patients in the dataset?\n",
    "We will need to access the 'Age' column in the dataframe and use .mean() to find the average of all the values in that column"
   ]
  },
  {
   "cell_type": "code",
   "execution_count": 8,
   "metadata": {},
   "outputs": [
    {
     "name": "stdout",
     "output_type": "stream",
     "text": [
      "The average age of the patients in the dataset is 39\n"
     ]
    }
   ],
   "source": [
    "average_age = data['Age'].mean()\n",
    "print(f\"The average age of the patients in the dataset is {int(average_age)}\")"
   ]
  },
  {
   "cell_type": "markdown",
   "metadata": {},
   "source": [
    "If we want to see the distribution of the patients ages, we can plot a histogram that will visually display that data"
   ]
  },
  {
   "cell_type": "code",
   "execution_count": 5,
   "metadata": {},
   "outputs": [
    {
     "data": {
      "image/png": "[encoded data removed]",
      "text/plain": [
       "<Figure size 432x288 with 1 Axes>"
      ]
     },
     "metadata": {
      "needs_background": "light"
     },
     "output_type": "display_data"
    }
   ],
   "source": [
    "import matplotlib.pyplot as plt\n",
    "import seaborn as sns\n",
    "\n",
    "# find the min and max age for title of plot\n",
    "age_min = data['Age'].min()\n",
    "age_max = data['Age'].max()\n",
    "\n",
    "# plot data using seaborn \n",
    "sns.histplot(data=data, x=data['Age'], binwidth=5, color='#CCD9EA')\n",
    "plt.ylabel('Patient Count')\n",
    "plt.title('Patient Age Count From Ages ' + str(age_min) + '-' + str(age_max))\n",
    "plt.show()"
   ]
  },
  {
   "cell_type": "markdown",
   "metadata": {},
   "source": [
    "#### Question 2: Where are the majority of the patients from?\n",
    "To approach this task, we will need to count the number of patients in each region specified in the `Region` column of the dataframe.\n",
    "\n",
    "For readability, we will add a `Count` column to represent one patient."
   ]
  },
  {
   "cell_type": "code",
   "execution_count": 42,
   "metadata": {},
   "outputs": [
    {
     "data": {
      "text/html": [
       "<div>\n",
       "<style scoped>\n",
       "    .dataframe tbody tr th:only-of-type {\n",
       "        vertical-align: middle;\n",
       "    }\n",
       "\n",
       "    .dataframe tbody tr th {\n",
       "        vertical-align: top;\n",
       "    }\n",
       "\n",
       "    .dataframe thead th {\n",
       "        text-align: right;\n",
       "    }\n",
       "</style>\n",
       "<table border=\"1\" class=\"dataframe\">\n",
       "  <thead>\n",
       "    <tr style=\"text-align: right;\">\n",
       "      <th></th>\n",
       "      <th>Region</th>\n",
       "      <th>Count</th>\n",
       "    </tr>\n",
       "  </thead>\n",
       "  <tbody>\n",
       "    <tr>\n",
       "      <th>0</th>\n",
       "      <td>Northeast</td>\n",
       "      <td>324</td>\n",
       "    </tr>\n",
       "    <tr>\n",
       "      <th>1</th>\n",
       "      <td>Northwest</td>\n",
       "      <td>325</td>\n",
       "    </tr>\n",
       "    <tr>\n",
       "      <th>2</th>\n",
       "      <td>Southeast</td>\n",
       "      <td>364</td>\n",
       "    </tr>\n",
       "    <tr>\n",
       "      <th>3</th>\n",
       "      <td>Southwest</td>\n",
       "      <td>325</td>\n",
       "    </tr>\n",
       "  </tbody>\n",
       "</table>\n",
       "</div>"
      ],
      "text/plain": [
       "      Region  Count\n",
       "0  Northeast    324\n",
       "1  Northwest    325\n",
       "2  Southeast    364\n",
       "3  Southwest    325"
      ]
     },
     "execution_count": 42,
     "metadata": {},
     "output_type": "execute_result"
    }
   ],
   "source": [
    "data['Count'] = 1\n",
    "\n",
    "# group data by 'Region' and 'Count'\n",
    "region = data.groupby('Region')['Count'].count().reset_index()\n",
    "region"
   ]
  },
  {
   "cell_type": "markdown",
   "metadata": {},
   "source": [
    "According to the table above, the **Southeast** region is where the majority of the patients are from.\n",
    "\n",
    "To visually display this data, we can create a bar plot using `Matplotlib`"
   ]
  },
  {
   "cell_type": "code",
   "execution_count": 163,
   "metadata": {},
   "outputs": [
    {
     "data": {
      "image/png": "[encoded data removed]",
      "text/plain": [
       "<Figure size 720x504 with 1 Axes>"
      ]
     },
     "metadata": {
      "needs_background": "light"
     },
     "output_type": "display_data"
    }
   ],
   "source": [
    "import matplotlib.pyplot as plt\n",
    "\n",
    "fig = plt.figure(figsize=(10,7))\n",
    "ax = fig.add_subplot(1,1,1)\n",
    "\n",
    "plt.bar(range(len(region['Count'])), region['Count'])\n",
    "ax.set_xticks(range(len(region['Count'])))\n",
    "ax.set_xticklabels(region['Region'],fontsize = 14)\n",
    "plt.xlabel('Regions',fontsize = 14)\n",
    "plt.ylabel('Number of Patients', fontsize = 14)\n",
    "plt.title('Number of Patients in Each Region',fontsize = 14)\n",
    "plt.show()"
   ]
  },
  {
   "cell_type": "markdown",
   "metadata": {},
   "source": [
    "#### Question 3: What is the average age of someone with at least one child?\n",
    "What we can do here is group the `Num Children` and `Age` column and use `pandas .mean()` function to find the average age for someone with *x* number of children\n"
   ]
  },
  {
   "cell_type": "code",
   "execution_count": 43,
   "metadata": {},
   "outputs": [
    {
     "data": {
      "text/html": [
       "<div>\n",
       "<style scoped>\n",
       "    .dataframe tbody tr th:only-of-type {\n",
       "        vertical-align: middle;\n",
       "    }\n",
       "\n",
       "    .dataframe tbody tr th {\n",
       "        vertical-align: top;\n",
       "    }\n",
       "\n",
       "    .dataframe thead th {\n",
       "        text-align: right;\n",
       "    }\n",
       "</style>\n",
       "<table border=\"1\" class=\"dataframe\">\n",
       "  <thead>\n",
       "    <tr style=\"text-align: right;\">\n",
       "      <th></th>\n",
       "      <th>Num Children</th>\n",
       "      <th>Age</th>\n",
       "    </tr>\n",
       "  </thead>\n",
       "  <tbody>\n",
       "    <tr>\n",
       "      <th>0</th>\n",
       "      <td>0</td>\n",
       "      <td>38.0</td>\n",
       "    </tr>\n",
       "    <tr>\n",
       "      <th>1</th>\n",
       "      <td>1</td>\n",
       "      <td>39.0</td>\n",
       "    </tr>\n",
       "    <tr>\n",
       "      <th>2</th>\n",
       "      <td>2</td>\n",
       "      <td>39.0</td>\n",
       "    </tr>\n",
       "    <tr>\n",
       "      <th>3</th>\n",
       "      <td>3</td>\n",
       "      <td>42.0</td>\n",
       "    </tr>\n",
       "    <tr>\n",
       "      <th>4</th>\n",
       "      <td>4</td>\n",
       "      <td>39.0</td>\n",
       "    </tr>\n",
       "    <tr>\n",
       "      <th>5</th>\n",
       "      <td>5</td>\n",
       "      <td>36.0</td>\n",
       "    </tr>\n",
       "  </tbody>\n",
       "</table>\n",
       "</div>"
      ],
      "text/plain": [
       "   Num Children   Age\n",
       "0             0  38.0\n",
       "1             1  39.0\n",
       "2             2  39.0\n",
       "3             3  42.0\n",
       "4             4  39.0\n",
       "5             5  36.0"
      ]
     },
     "execution_count": 43,
     "metadata": {},
     "output_type": "execute_result"
    }
   ],
   "source": [
    "num_children = data.groupby('Num Children')['Age'].mean().round(0).reset_index()\n",
    "num_children"
   ]
  },
  {
   "cell_type": "markdown",
   "metadata": {},
   "source": [
    "According the data in the table, the average age for someone with at least one child is **39 years old**\n",
    "\n",
    "If we want to play around with this information more:\n",
    "\n",
    "* Let's find the difference in insurance charges between the youngest patient with 5 children and the oldest patient with no children"
   ]
  },
  {
   "cell_type": "code",
   "execution_count": 136,
   "metadata": {},
   "outputs": [
    {
     "name": "stdout",
     "output_type": "stream",
     "text": [
      "The youngest with five children is 19 years old and the oldest with no children is 64 years old.\n"
     ]
    }
   ],
   "source": [
    "# create dataframe with the following conditions\n",
    "five_children = data[data['Num Children'] == 5].reset_index()\n",
    "no_children = data[data['Num Children'] == 0 ].reset_index()\n",
    "\n",
    "# Uncomment to see tables\n",
    "# print(five_children)\n",
    "\n",
    "# find the youngest with five children and the oldest with no children\n",
    "young_five = five_children['Age'].min()\n",
    "old_none = no_children['Age'].max()\n",
    "\n",
    "print(f\"The youngest with five children is {young_five} years old and the oldest with no children is {old_none} years old.\")"
   ]
  },
  {
   "cell_type": "markdown",
   "metadata": {},
   "source": [
    "Now, let's compare the insurance charges between the two"
   ]
  },
  {
   "cell_type": "code",
   "execution_count": 137,
   "metadata": {},
   "outputs": [
    {
     "name": "stdout",
     "output_type": "stream",
     "text": [
      "Number of patients that's the youngest and has 5 children: 1\n",
      "Number of patients that's the oldest and has 0 children: 13\n"
     ]
    }
   ],
   "source": [
    "young_five_ins = five_children[five_children['Age'] == young_five]\n",
    "old_none_ins = no_children[no_children['Age'] == old_none]\n",
    "\n",
    "# Uncomment to see tables:\n",
    "# print(young_five_ins)\n",
    "# print(old_none_ins)\n",
    "\n",
    "# count how many patients there are \n",
    "print(f\"Number of patients that's the youngest and has 5 children: {young_five_ins.Count.count()}\")\n",
    "print(f\"Number of patients that's the oldest and has 0 children: {old_none_ins.Count.count()}\")"
   ]
  },
  {
   "cell_type": "markdown",
   "metadata": {},
   "source": [
    "We see from the data that (luckily), there's only one patient in the dataset that's the youngest with 5 children. However, there are 13 different patients who are the oldest and also have no children. So we could just take the average of the insurance charges for all the data, but we see that the one patient with five children is female and a non-smoker. \n",
    "\n",
    "In that case, we will compare the average insurance charges of just the females who are non-smokers:\n"
   ]
  },
  {
   "cell_type": "code",
   "execution_count": 108,
   "metadata": {},
   "outputs": [
    {
     "data": {
      "text/html": [
       "<div>\n",
       "<style scoped>\n",
       "    .dataframe tbody tr th:only-of-type {\n",
       "        vertical-align: middle;\n",
       "    }\n",
       "\n",
       "    .dataframe tbody tr th {\n",
       "        vertical-align: top;\n",
       "    }\n",
       "\n",
       "    .dataframe thead th {\n",
       "        text-align: right;\n",
       "    }\n",
       "</style>\n",
       "<table border=\"1\" class=\"dataframe\">\n",
       "  <thead>\n",
       "    <tr style=\"text-align: right;\">\n",
       "      <th></th>\n",
       "      <th>Sex</th>\n",
       "      <th>Charges (USD $)</th>\n",
       "    </tr>\n",
       "  </thead>\n",
       "  <tbody>\n",
       "    <tr>\n",
       "      <th>0</th>\n",
       "      <td>female</td>\n",
       "      <td>14556.7675</td>\n",
       "    </tr>\n",
       "  </tbody>\n",
       "</table>\n",
       "</div>"
      ],
      "text/plain": [
       "      Sex  Charges (USD $)\n",
       "0  female       14556.7675"
      ]
     },
     "execution_count": 108,
     "metadata": {},
     "output_type": "execute_result"
    }
   ],
   "source": [
    "# find the average cost for females in the \"oldest with no children\" group\n",
    "female_older = old_none_ins[old_none_ins['Smoker'] == 'no']\n",
    "average = female_older.groupby('Sex')['Charges (USD $)'].mean().reset_index()\n",
    "f_avg = average[average['Sex'] == 'female']\n",
    "f_avg"
   ]
  },
  {
   "cell_type": "code",
   "execution_count": 106,
   "metadata": {},
   "outputs": [
    {
     "data": {
      "text/plain": [
       "4687.8"
      ]
     },
     "execution_count": 106,
     "metadata": {},
     "output_type": "execute_result"
    }
   ],
   "source": [
    "# cost for \"youngest with 5 children\"\n",
    "young_five_ins.iloc[0]['Charges (USD $)']"
   ]
  },
  {
   "cell_type": "code",
   "execution_count": 113,
   "metadata": {},
   "outputs": [
    {
     "name": "stdout",
     "output_type": "stream",
     "text": [
      "The difference in insurance charges between the youngest non-smoker with 5 children and oldest non-smoker with no children: $9868.97\n"
     ]
    }
   ],
   "source": [
    "# find the difference \n",
    "cost_diff = f_avg.iloc[0]['Charges (USD $)'] - young_five_ins.iloc[0]['Charges (USD $)']\n",
    "print(f\"The difference in insurance charges between the youngest non-smoker with 5 children and oldest non-smoker with no children: ${round(cost_diff,2)}\")"
   ]
  },
  {
   "cell_type": "markdown",
   "metadata": {},
   "source": [
    "#### Question 4: What is the difference in costs between females and males with no children?\n",
    "*We're going to disregard the smoker/non-smoker factor for this analysis.*\n",
    "\n",
    "What we need to do:\n",
    "* group the `Sex`, `Num Children`, and `Charges (USD $)` columns\n",
    "* find the average cost for females with no children and males with no children\n",
    "* find the difference"
   ]
  },
  {
   "cell_type": "code",
   "execution_count": 141,
   "metadata": {},
   "outputs": [
    {
     "name": "stdout",
     "output_type": "stream",
     "text": [
      "       Sex  Num Children  Charges (USD $)\n",
      "0   female             0         11905.71\n",
      "1   female             1         12161.36\n",
      "2   female             2         13941.32\n",
      "3   female             3         13865.60\n",
      "4   female             4         13937.67\n",
      "5   female             5          9854.01\n",
      "6     male             0         12832.70\n",
      "7     male             1         13273.52\n",
      "8     male             2         16187.10\n",
      "9     male             3         16789.17\n",
      "10    male             4         13782.29\n",
      "11    male             5          7931.66\n",
      "The difference in cost between men and women with no children is $926.99\n"
     ]
    }
   ],
   "source": [
    "# create dataframe with just the 'Sex', 'Num Children', and 'Charges (USD $)' columns\n",
    "# find the average cost for female/male with x num of children\n",
    "fem_and_males = data.groupby(['Sex', 'Num Children'])['Charges (USD $)'].mean().round(2).reset_index()\n",
    "\n",
    "# Uncomment to see tables\n",
    "print(fem_and_males)\n",
    "\n",
    "# for readability, we'll convert the into a pivot table\n",
    "pivoted = fem_and_males.pivot(columns = 'Num Children', index = 'Sex', values = 'Charges (USD $)')\n",
    "# Uncomment to see tables\n",
    "# print(pivoted)\n",
    "\n",
    "# access the cost values for female & male with 0 children\n",
    "fem = pivoted[0].iloc[0]\n",
    "male = pivoted[0].iloc[1]\n",
    "\n",
    "# find the difference in cost\n",
    "diff = male - fem\n",
    "print(f\"The difference in cost between men and women with no children is ${round(diff,2)}\")"
   ]
  },
  {
   "cell_type": "markdown",
   "metadata": {},
   "source": [
    "* We see that the difference between men and women with no children is approximately **\\\\$927** which tells us that insurance is higher for men with no children than women. \n",
    "* This is while **NOT** taking smoking into consideration"
   ]
  },
  {
   "cell_type": "markdown",
   "metadata": {},
   "source": [
    "#### Question 5: Does the region where the person is located affect insurance costs?\n",
    "To approach this question, we will find the average insurance cost in each region and compare the differences\n",
    "\n",
    "If the difference between the locations aren't as spread out then we can conclude that the region a person lives in doesn't affect insurance charges"
   ]
  },
  {
   "cell_type": "code",
   "execution_count": 144,
   "metadata": {},
   "outputs": [
    {
     "data": {
      "text/html": [
       "<div>\n",
       "<style scoped>\n",
       "    .dataframe tbody tr th:only-of-type {\n",
       "        vertical-align: middle;\n",
       "    }\n",
       "\n",
       "    .dataframe tbody tr th {\n",
       "        vertical-align: top;\n",
       "    }\n",
       "\n",
       "    .dataframe thead th {\n",
       "        text-align: right;\n",
       "    }\n",
       "</style>\n",
       "<table border=\"1\" class=\"dataframe\">\n",
       "  <thead>\n",
       "    <tr style=\"text-align: right;\">\n",
       "      <th></th>\n",
       "      <th>Region</th>\n",
       "      <th>Charges (USD $)</th>\n",
       "    </tr>\n",
       "  </thead>\n",
       "  <tbody>\n",
       "    <tr>\n",
       "      <th>0</th>\n",
       "      <td>Northeast</td>\n",
       "      <td>13406.384599</td>\n",
       "    </tr>\n",
       "    <tr>\n",
       "      <th>1</th>\n",
       "      <td>Northwest</td>\n",
       "      <td>12417.575169</td>\n",
       "    </tr>\n",
       "    <tr>\n",
       "      <th>2</th>\n",
       "      <td>Southeast</td>\n",
       "      <td>14735.411484</td>\n",
       "    </tr>\n",
       "    <tr>\n",
       "      <th>3</th>\n",
       "      <td>Southwest</td>\n",
       "      <td>12346.937508</td>\n",
       "    </tr>\n",
       "  </tbody>\n",
       "</table>\n",
       "</div>"
      ],
      "text/plain": [
       "      Region  Charges (USD $)\n",
       "0  Northeast     13406.384599\n",
       "1  Northwest     12417.575169\n",
       "2  Southeast     14735.411484\n",
       "3  Southwest     12346.937508"
      ]
     },
     "execution_count": 144,
     "metadata": {},
     "output_type": "execute_result"
    }
   ],
   "source": [
    "location = data.groupby('Region')['Charges (USD $)'].mean().reset_index()\n",
    "location"
   ]
  },
  {
   "cell_type": "markdown",
   "metadata": {},
   "source": [
    "We're going to plot the data so it'll be easier to see the differences between the regions"
   ]
  },
  {
   "cell_type": "code",
   "execution_count": 166,
   "metadata": {},
   "outputs": [
    {
     "data": {
      "image/png": "[encoded data removed]",
      "text/plain": [
       "<Figure size 720x504 with 1 Axes>"
      ]
     },
     "metadata": {
      "needs_background": "light"
     },
     "output_type": "display_data"
    }
   ],
   "source": [
    "import matplotlib.pyplot as plt\n",
    "\n",
    "fig = plt.figure(figsize=(10,7))\n",
    "ax = fig.add_subplot(1,1,1)\n",
    "\n",
    "x = range(len(location['Region']))\n",
    "plt.bar(x, location['Charges (USD $)'])\n",
    "plt.xlabel('Regions',fontsize = 14)\n",
    "plt.ylabel('Average Insurance Cost (USD $)', fontsize = 14)\n",
    "plt.title('Average Insurance Cost in Each Region', fontsize = 14)\n",
    "ax.set_xticks(x)\n",
    "ax.set_xticklabels(location['Region'], fontsize = 14)\n",
    "\n",
    "plt.show()"
   ]
  },
  {
   "cell_type": "markdown",
   "metadata": {},
   "source": [
    "As we can see from the plot, the average insurance costs for each region are roughly within \\\\$12,000 to \\\\$15,000. It's expected that the Southeast region have the higher insurance cost average since we found in **Question 2** that the majority of the patients are from the Southeast."
   ]
  },
  {
   "cell_type": "markdown",
   "metadata": {},
   "source": []
  }
 ],
 "metadata": {
  "kernelspec": {
   "display_name": "Python 3",
   "language": "python",
   "name": "python3"
  },
  "language_info": {
   "codemirror_mode": {
    "name": "ipython",
    "version": 3
   },
   "file_extension": ".py",
   "mimetype": "text/x-python",
   "name": "python",
   "nbconvert_exporter": "python",
   "pygments_lexer": "ipython3",
   "version": "3.8.5"
  }
 },
 "nbformat": 4,
 "nbformat_minor": 4
}

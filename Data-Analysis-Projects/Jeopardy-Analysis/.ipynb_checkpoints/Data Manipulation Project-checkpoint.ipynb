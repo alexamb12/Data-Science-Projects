{
 "cells": [
  {
   "cell_type": "code",
   "execution_count": 43,
   "id": "technical-kazakhstan",
   "metadata": {
    "scrolled": true
   },
   "outputs": [
    {
     "data": {
      "text/html": [
       "<div>\n",
       "<style scoped>\n",
       "    .dataframe tbody tr th:only-of-type {\n",
       "        vertical-align: middle;\n",
       "    }\n",
       "\n",
       "    .dataframe tbody tr th {\n",
       "        vertical-align: top;\n",
       "    }\n",
       "\n",
       "    .dataframe thead th {\n",
       "        text-align: right;\n",
       "    }\n",
       "</style>\n",
       "<table border=\"1\" class=\"dataframe\">\n",
       "  <thead>\n",
       "    <tr style=\"text-align: right;\">\n",
       "      <th></th>\n",
       "      <th>Show Number</th>\n",
       "      <th>Air Date</th>\n",
       "      <th>Round</th>\n",
       "      <th>Category</th>\n",
       "      <th>Value</th>\n",
       "      <th>Question</th>\n",
       "      <th>Answer</th>\n",
       "    </tr>\n",
       "  </thead>\n",
       "  <tbody>\n",
       "    <tr>\n",
       "      <th>0</th>\n",
       "      <td>4680</td>\n",
       "      <td>2004-12-31</td>\n",
       "      <td>Jeopardy!</td>\n",
       "      <td>HISTORY</td>\n",
       "      <td>$200</td>\n",
       "      <td>For the last 8 years of his life, Galileo was under house arrest for espousing this man's theory</td>\n",
       "      <td>Copernicus</td>\n",
       "    </tr>\n",
       "    <tr>\n",
       "      <th>1</th>\n",
       "      <td>4680</td>\n",
       "      <td>2004-12-31</td>\n",
       "      <td>Jeopardy!</td>\n",
       "      <td>ESPN's TOP 10 ALL-TIME ATHLETES</td>\n",
       "      <td>$200</td>\n",
       "      <td>No. 2: 1912 Olympian; football star at Carlisle Indian School; 6 MLB seasons with the Reds, Giants &amp; Braves</td>\n",
       "      <td>Jim Thorpe</td>\n",
       "    </tr>\n",
       "    <tr>\n",
       "      <th>2</th>\n",
       "      <td>4680</td>\n",
       "      <td>2004-12-31</td>\n",
       "      <td>Jeopardy!</td>\n",
       "      <td>EVERYBODY TALKS ABOUT IT...</td>\n",
       "      <td>$200</td>\n",
       "      <td>The city of Yuma in this state has a record average of 4,055 hours of sunshine each year</td>\n",
       "      <td>Arizona</td>\n",
       "    </tr>\n",
       "    <tr>\n",
       "      <th>3</th>\n",
       "      <td>4680</td>\n",
       "      <td>2004-12-31</td>\n",
       "      <td>Jeopardy!</td>\n",
       "      <td>THE COMPANY LINE</td>\n",
       "      <td>$200</td>\n",
       "      <td>In 1963, live on \"The Art Linkletter Show\", this company served its billionth burger</td>\n",
       "      <td>McDonald's</td>\n",
       "    </tr>\n",
       "    <tr>\n",
       "      <th>4</th>\n",
       "      <td>4680</td>\n",
       "      <td>2004-12-31</td>\n",
       "      <td>Jeopardy!</td>\n",
       "      <td>EPITAPHS &amp; TRIBUTES</td>\n",
       "      <td>$200</td>\n",
       "      <td>Signer of the Dec. of Indep., framer of the Constitution of Mass., second President of the United States</td>\n",
       "      <td>John Adams</td>\n",
       "    </tr>\n",
       "  </tbody>\n",
       "</table>\n",
       "</div>"
      ],
      "text/plain": [
       "   Show Number    Air Date      Round                         Category  Value  \\\n",
       "0         4680  2004-12-31  Jeopardy!                          HISTORY   $200   \n",
       "1         4680  2004-12-31  Jeopardy!  ESPN's TOP 10 ALL-TIME ATHLETES   $200   \n",
       "2         4680  2004-12-31  Jeopardy!      EVERYBODY TALKS ABOUT IT...   $200   \n",
       "3         4680  2004-12-31  Jeopardy!                 THE COMPANY LINE   $200   \n",
       "4         4680  2004-12-31  Jeopardy!              EPITAPHS & TRIBUTES   $200   \n",
       "\n",
       "                                                                                                      Question  \\\n",
       "0             For the last 8 years of his life, Galileo was under house arrest for espousing this man's theory   \n",
       "1  No. 2: 1912 Olympian; football star at Carlisle Indian School; 6 MLB seasons with the Reds, Giants & Braves   \n",
       "2                     The city of Yuma in this state has a record average of 4,055 hours of sunshine each year   \n",
       "3                         In 1963, live on \"The Art Linkletter Show\", this company served its billionth burger   \n",
       "4     Signer of the Dec. of Indep., framer of the Constitution of Mass., second President of the United States   \n",
       "\n",
       "       Answer  \n",
       "0  Copernicus  \n",
       "1  Jim Thorpe  \n",
       "2     Arizona  \n",
       "3  McDonald's  \n",
       "4  John Adams  "
      ]
     },
     "execution_count": 43,
     "metadata": {},
     "output_type": "execute_result"
    }
   ],
   "source": [
    "import pandas as pd\n",
    "pd.set_option('display.max_colwidth', None)\n",
    "\n",
    "data = pd.read_csv('jeopardy.csv')\n",
    "\n",
    "data.head()"
   ]
  },
  {
   "cell_type": "code",
   "execution_count": 44,
   "id": "angry-prototype",
   "metadata": {},
   "outputs": [
    {
     "name": "stdout",
     "output_type": "stream",
     "text": [
      "<class 'pandas.core.frame.DataFrame'>\n",
      "RangeIndex: 216930 entries, 0 to 216929\n",
      "Data columns (total 7 columns):\n",
      " #   Column       Non-Null Count   Dtype \n",
      "---  ------       --------------   ----- \n",
      " 0   Show Number  216930 non-null  int64 \n",
      " 1    Air Date    216930 non-null  object\n",
      " 2    Round       216930 non-null  object\n",
      " 3    Category    216930 non-null  object\n",
      " 4    Value       216930 non-null  object\n",
      " 5    Question    216930 non-null  object\n",
      " 6    Answer      216928 non-null  object\n",
      "dtypes: int64(1), object(6)\n",
      "memory usage: 11.6+ MB\n"
     ]
    }
   ],
   "source": [
    "data.info()"
   ]
  },
  {
   "cell_type": "markdown",
   "id": "promising-gnome",
   "metadata": {},
   "source": [
    "I notice that there is a space in front of all the columns (except `Show Number`) so I'm going to rename the columns to remove the whitespace."
   ]
  },
  {
   "cell_type": "code",
   "execution_count": 45,
   "id": "valuable-wonder",
   "metadata": {},
   "outputs": [
    {
     "name": "stdout",
     "output_type": "stream",
     "text": [
      "<class 'pandas.core.frame.DataFrame'>\n",
      "RangeIndex: 216930 entries, 0 to 216929\n",
      "Data columns (total 7 columns):\n",
      " #   Column       Non-Null Count   Dtype \n",
      "---  ------       --------------   ----- \n",
      " 0   Show Number  216930 non-null  int64 \n",
      " 1   Air Date     216930 non-null  object\n",
      " 2   Round        216930 non-null  object\n",
      " 3   Category     216930 non-null  object\n",
      " 4   Value        216930 non-null  object\n",
      " 5   Question     216930 non-null  object\n",
      " 6   Answer       216928 non-null  object\n",
      "dtypes: int64(1), object(6)\n",
      "memory usage: 11.6+ MB\n"
     ]
    }
   ],
   "source": [
    "data.columns = ['Show Number', 'Air Date', 'Round', 'Category', 'Value', 'Question', 'Answer']\n",
    "data.info()"
   ]
  },
  {
   "cell_type": "markdown",
   "id": "multiple-survey",
   "metadata": {},
   "source": [
    "Now I'm going to procedd with converting the `Air Date` column into a datetime object"
   ]
  },
  {
   "cell_type": "code",
   "execution_count": 47,
   "id": "assigned-lightning",
   "metadata": {},
   "outputs": [
    {
     "name": "stdout",
     "output_type": "stream",
     "text": [
      "<class 'pandas.core.frame.DataFrame'>\n",
      "RangeIndex: 216930 entries, 0 to 216929\n",
      "Data columns (total 7 columns):\n",
      " #   Column       Non-Null Count   Dtype         \n",
      "---  ------       --------------   -----         \n",
      " 0   Show Number  216930 non-null  int64         \n",
      " 1   Air Date     216930 non-null  datetime64[ns]\n",
      " 2   Round        216930 non-null  object        \n",
      " 3   Category     216930 non-null  object        \n",
      " 4   Value        216930 non-null  object        \n",
      " 5   Question     216930 non-null  object        \n",
      " 6   Answer       216928 non-null  object        \n",
      "dtypes: datetime64[ns](1), int64(1), object(5)\n",
      "memory usage: 11.6+ MB\n"
     ]
    }
   ],
   "source": [
    "# goint go convert Air Date into datetime object\n",
    "data['Air Date'] = pd.to_datetime(data['Air Date'], format= '%Y-%m-%d')\n",
    "\n",
    "# view data info to see if the Dtype changed\n",
    "data.info() "
   ]
  },
  {
   "cell_type": "markdown",
   "id": "polished-herald",
   "metadata": {},
   "source": [
    "Now, the `Value` column represents the amount each `Question` is worth in USD. To make things easier, let's convert the `Value` column to `float64` and rename the column to `Value ($)`\n",
    "\n",
    "There are 2 thinkgs we'll need to remove:\n",
    "* `$`\n",
    "* and the commas that separate larger numbers (i.e 2,000)"
   ]
  },
  {
   "cell_type": "code",
   "execution_count": 66,
   "id": "ultimate-development",
   "metadata": {},
   "outputs": [
    {
     "data": {
      "text/plain": [
       "Show Number                                                                                    4680\n",
       "Air Date                                                                        2004-12-31 00:00:00\n",
       "Round                                                                                     Jeopardy!\n",
       "Category                                                                        EPITAPHS & TRIBUTES\n",
       "Value ($)                                                                                     2,000\n",
       "Question       1939 Oscar winner: \"...you are a credit to your craft, your race and to your family\"\n",
       "Answer                                         Hattie McDaniel (for her role in Gone with the Wind)\n",
       "Name: 22, dtype: object"
      ]
     },
     "execution_count": 66,
     "metadata": {},
     "output_type": "execute_result"
    }
   ],
   "source": [
    "# rename column \n",
    "data.rename(columns={'Value': 'Value ($)'},inplace=True)\n",
    "\n",
    "# remove $ using .strip()\n",
    "data['Value ($)'] = data['Value ($)'].apply(lambda x: x.strip('$').strip(','))\n",
    "\n",
    "# check to see if $ was removed\n",
    "data.iloc[22]\n",
    "\n",
    "# convert values to float\n",
    "# data['Value ($)'] = data['Value ($)'].astype('float64')\n",
    "\n",
    "# data[data['Value ($)'] == '2,000']"
   ]
  }
 ],
 "metadata": {
  "kernelspec": {
   "display_name": "Python [conda env:root] *",
   "language": "python",
   "name": "conda-root-py"
  },
  "language_info": {
   "codemirror_mode": {
    "name": "ipython",
    "version": 3
   },
   "file_extension": ".py",
   "mimetype": "text/x-python",
   "name": "python",
   "nbconvert_exporter": "python",
   "pygments_lexer": "ipython3",
   "version": "3.6.12"
  }
 },
 "nbformat": 4,
 "nbformat_minor": 5
}

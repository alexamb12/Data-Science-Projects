{
 "cells": [
  {
   "cell_type": "markdown",
   "id": "infectious-soundtrack",
   "metadata": {},
   "source": [
    "*This project was created by [Keith Galli](www.instagram.com/keithgalli/) on his Youtube channel [Solving Real World Data Science Tasks with Python Pandas](https://youtu.be/eMOA1pPVUc4). I refered to the tasks and questions asked for in his project outline and referred to his video for any extra assistance when neccessary.*\n",
    "\n",
    "# Analyzing Sales Data\n",
    "\n",
    "For this project, we'll access a years worth of sales data on tech products from the `SalesAnalysis` folder. All the files are in `.csv` format and include the following columns:\n",
    "   * `Order ID`\n",
    "   * `Product`\n",
    "   * `Quantity Ordered`\n",
    "   * `Price Each`\n",
    "   * `Order Date`\n",
    "   * `Puchase Address`\n",
    "   \n",
    "We'll first clean our data using Python's `pandas` library to transfer our data into a more readable format.\n",
    "\n",
    "Then we'll do analysis by answering these questions:\n",
    "1. What was the best month for sales? How much was earned that month?\n",
    "2. What city sold the most product?\n",
    "3. What time should we display advertisments to maximize the likelihood of customer's buying product?\n",
    "4. What products are most often sold together?\n",
    "5. What product sold the most? Why do you think it sold the most?\n",
    "\n",
    "Let's get started!"
   ]
  },
  {
   "cell_type": "markdown",
   "id": "retained-seafood",
   "metadata": {},
   "source": [
    "#### Task 1: Loading the Data\n",
    "\n",
    "The first thing we're going to do is import all the data we need and create a dataframe out of it using `pandas`\n",
    "\n",
    "In order to do that, let's go ahead and import the necessary python libraries to make that happen"
   ]
  },
  {
   "cell_type": "code",
   "execution_count": 2,
   "id": "governmental-sweet",
   "metadata": {},
   "outputs": [],
   "source": [
    "import pandas as pd\n",
    "import os # this library will be used to navigate to the folder with all the files"
   ]
  },
  {
   "cell_type": "markdown",
   "id": "banned-dialogue",
   "metadata": {},
   "source": [
    "Now that we've imported the libraries, let's create a dataframe and label it `sales_data`. We'll then import the data from the `.csv` files into that dataframe.\n",
    "\n",
    "**There's so many `.csv` files, how are we going to import it?**\n",
    "\n",
    "What we'll need to do is create a list of all the files using *list comprehension*. Once we have a list with all the files, we'll then loop through each file and concatenate it to our dataframe, `sales_data`\n"
   ]
  },
  {
   "cell_type": "code",
   "execution_count": 3,
   "id": "answering-scanning",
   "metadata": {},
   "outputs": [],
   "source": [
    "# create dataframe\n",
    "sales_data = pd.DataFrame()\n",
    "\n",
    "# create files list\n",
    "files = [file for file in os.listdir('SalesAnalysis/Sales_Data/')] # this will loop through each file in that directory and\n",
    "                                                                   # add it to our files list\n",
    "# merge all the .csv files into our dataframe\n",
    "for file in files:\n",
    "    df = pd.read_csv('SalesAnalysis/Sales_Data/' + file)\n",
    "    sales_data = pd.concat([sales_data, df])\n"
   ]
  },
  {
   "cell_type": "markdown",
   "id": "external-floating",
   "metadata": {},
   "source": [
    "#### Task 2: Clean data "
   ]
  },
  {
   "cell_type": "markdown",
   "id": "isolated-framing",
   "metadata": {},
   "source": [
    "Let's view our data using `.head()` to see what our data looks like"
   ]
  },
  {
   "cell_type": "code",
   "execution_count": 4,
   "id": "offensive-fashion",
   "metadata": {},
   "outputs": [
    {
     "data": {
      "text/html": [
       "<div>\n",
       "<style scoped>\n",
       "    .dataframe tbody tr th:only-of-type {\n",
       "        vertical-align: middle;\n",
       "    }\n",
       "\n",
       "    .dataframe tbody tr th {\n",
       "        vertical-align: top;\n",
       "    }\n",
       "\n",
       "    .dataframe thead th {\n",
       "        text-align: right;\n",
       "    }\n",
       "</style>\n",
       "<table border=\"1\" class=\"dataframe\">\n",
       "  <thead>\n",
       "    <tr style=\"text-align: right;\">\n",
       "      <th></th>\n",
       "      <th>Order ID</th>\n",
       "      <th>Product</th>\n",
       "      <th>Quantity Ordered</th>\n",
       "      <th>Price Each</th>\n",
       "      <th>Order Date</th>\n",
       "      <th>Purchase Address</th>\n",
       "    </tr>\n",
       "  </thead>\n",
       "  <tbody>\n",
       "    <tr>\n",
       "      <th>0</th>\n",
       "      <td>176558</td>\n",
       "      <td>USB-C Charging Cable</td>\n",
       "      <td>2</td>\n",
       "      <td>11.95</td>\n",
       "      <td>04/19/19 08:46</td>\n",
       "      <td>917 1st St, Dallas, TX 75001</td>\n",
       "    </tr>\n",
       "    <tr>\n",
       "      <th>1</th>\n",
       "      <td>NaN</td>\n",
       "      <td>NaN</td>\n",
       "      <td>NaN</td>\n",
       "      <td>NaN</td>\n",
       "      <td>NaN</td>\n",
       "      <td>NaN</td>\n",
       "    </tr>\n",
       "    <tr>\n",
       "      <th>2</th>\n",
       "      <td>176559</td>\n",
       "      <td>Bose SoundSport Headphones</td>\n",
       "      <td>1</td>\n",
       "      <td>99.99</td>\n",
       "      <td>04/07/19 22:30</td>\n",
       "      <td>682 Chestnut St, Boston, MA 02215</td>\n",
       "    </tr>\n",
       "    <tr>\n",
       "      <th>3</th>\n",
       "      <td>176560</td>\n",
       "      <td>Google Phone</td>\n",
       "      <td>1</td>\n",
       "      <td>600</td>\n",
       "      <td>04/12/19 14:38</td>\n",
       "      <td>669 Spruce St, Los Angeles, CA 90001</td>\n",
       "    </tr>\n",
       "    <tr>\n",
       "      <th>4</th>\n",
       "      <td>176560</td>\n",
       "      <td>Wired Headphones</td>\n",
       "      <td>1</td>\n",
       "      <td>11.99</td>\n",
       "      <td>04/12/19 14:38</td>\n",
       "      <td>669 Spruce St, Los Angeles, CA 90001</td>\n",
       "    </tr>\n",
       "  </tbody>\n",
       "</table>\n",
       "</div>"
      ],
      "text/plain": [
       "  Order ID                     Product Quantity Ordered Price Each  \\\n",
       "0   176558        USB-C Charging Cable                2      11.95   \n",
       "1      NaN                         NaN              NaN        NaN   \n",
       "2   176559  Bose SoundSport Headphones                1      99.99   \n",
       "3   176560                Google Phone                1        600   \n",
       "4   176560            Wired Headphones                1      11.99   \n",
       "\n",
       "       Order Date                      Purchase Address  \n",
       "0  04/19/19 08:46          917 1st St, Dallas, TX 75001  \n",
       "1             NaN                                   NaN  \n",
       "2  04/07/19 22:30     682 Chestnut St, Boston, MA 02215  \n",
       "3  04/12/19 14:38  669 Spruce St, Los Angeles, CA 90001  \n",
       "4  04/12/19 14:38  669 Spruce St, Los Angeles, CA 90001  "
      ]
     },
     "execution_count": 4,
     "metadata": {},
     "output_type": "execute_result"
    }
   ],
   "source": [
    "sales_data.head()"
   ]
  },
  {
   "cell_type": "markdown",
   "id": "hungarian-restriction",
   "metadata": {},
   "source": [
    "Notice that there is a row full of `NaN` values. Let's go ahead and drop all the rows that have `NaN` values and then reset our index so that it is back to default integer index.\n",
    "\n",
    "We can check to see if there are any `NaN` values by using `.isna().sum()` which will sum all the `NaN` values in the dataframe"
   ]
  },
  {
   "cell_type": "code",
   "execution_count": 5,
   "id": "communist-technical",
   "metadata": {},
   "outputs": [
    {
     "data": {
      "text/plain": [
       "Order ID            0\n",
       "Product             0\n",
       "Quantity Ordered    0\n",
       "Price Each          0\n",
       "Order Date          0\n",
       "Purchase Address    0\n",
       "dtype: int64"
      ]
     },
     "execution_count": 5,
     "metadata": {},
     "output_type": "execute_result"
    }
   ],
   "source": [
    "sales_data = sales_data.dropna().reset_index(drop=True)\n",
    "\n",
    "sales_data.isna().sum()"
   ]
  },
  {
   "cell_type": "code",
   "execution_count": 6,
   "id": "blocked-filling",
   "metadata": {},
   "outputs": [
    {
     "name": "stdout",
     "output_type": "stream",
     "text": [
      "<class 'pandas.core.frame.DataFrame'>\n",
      "RangeIndex: 186305 entries, 0 to 186304\n",
      "Data columns (total 6 columns):\n",
      " #   Column            Non-Null Count   Dtype \n",
      "---  ------            --------------   ----- \n",
      " 0   Order ID          186305 non-null  object\n",
      " 1   Product           186305 non-null  object\n",
      " 2   Quantity Ordered  186305 non-null  object\n",
      " 3   Price Each        186305 non-null  object\n",
      " 4   Order Date        186305 non-null  object\n",
      " 5   Purchase Address  186305 non-null  object\n",
      "dtypes: object(6)\n",
      "memory usage: 8.5+ MB\n"
     ]
    }
   ],
   "source": [
    "# inspect data \n",
    "sales_data.head()\n",
    "\n",
    "# can also use .info() to see more information about the data\n",
    "sales_data.info()"
   ]
  },
  {
   "cell_type": "markdown",
   "id": "primary-vehicle",
   "metadata": {},
   "source": [
    "If we look at the `Dtype` of all the columns, they're labeled `object` which might not seem like an immediate problem at first. However, if you look at the columns with numerical values (i.e `Quantity Ordered` & `Price Each`), that means that those pieces of data are actually in `str` format rather than `int/float`. Also, the `Order Date` column is not formatted as a `datetime` object so we'll need to adjust all the columns so we can do proper analysis.\n",
    "\n",
    "We'll need to import the `datetime` library to convert our `Order Date` column.\n",
    "\n",
    "**Before we do that**, let's go ahead and create a new `.csv` with the clean data since once we create the datetime object, it'll turn back to an object when we create the `.csv`"
   ]
  },
  {
   "cell_type": "code",
   "execution_count": 7,
   "id": "chronic-afternoon",
   "metadata": {},
   "outputs": [],
   "source": [
    "# write data to csv file\n",
    "sales_data.to_csv('sales_data.csv', index=False)\n",
    "\n",
    "# read data in updated df\n",
    "sales_data = pd.read_csv('sales_data.csv')"
   ]
  },
  {
   "cell_type": "markdown",
   "id": "blocked-america",
   "metadata": {},
   "source": [
    "Now we can proceed to converting the columns:"
   ]
  },
  {
   "cell_type": "code",
   "execution_count": 8,
   "id": "mechanical-pulse",
   "metadata": {},
   "outputs": [],
   "source": [
    "import datetime\n",
    "\n",
    "# sales_data['Order Date'] = pd.to_datetime(sales_data['Order Date']) #ParserError: Unknown string format: Order Date"
   ]
  },
  {
   "cell_type": "markdown",
   "id": "plain-liechtenstein",
   "metadata": {},
   "source": [
    "It seems that we get this error `ParserError: Unknown string format: Order Date` \n",
    "\n",
    "We know that the `Order Date` column is filled with dates but this error is telling us that we have some rows that are also filled with the value `Order Date`. Let's create a temporary df to find where this is happening"
   ]
  },
  {
   "cell_type": "code",
   "execution_count": 9,
   "id": "acquired-narrow",
   "metadata": {},
   "outputs": [
    {
     "data": {
      "text/html": [
       "<div>\n",
       "<style scoped>\n",
       "    .dataframe tbody tr th:only-of-type {\n",
       "        vertical-align: middle;\n",
       "    }\n",
       "\n",
       "    .dataframe tbody tr th {\n",
       "        vertical-align: top;\n",
       "    }\n",
       "\n",
       "    .dataframe thead th {\n",
       "        text-align: right;\n",
       "    }\n",
       "</style>\n",
       "<table border=\"1\" class=\"dataframe\">\n",
       "  <thead>\n",
       "    <tr style=\"text-align: right;\">\n",
       "      <th></th>\n",
       "      <th>Order ID</th>\n",
       "      <th>Product</th>\n",
       "      <th>Quantity Ordered</th>\n",
       "      <th>Price Each</th>\n",
       "      <th>Order Date</th>\n",
       "      <th>Purchase Address</th>\n",
       "    </tr>\n",
       "  </thead>\n",
       "  <tbody>\n",
       "    <tr>\n",
       "      <th>517</th>\n",
       "      <td>Order ID</td>\n",
       "      <td>Product</td>\n",
       "      <td>Quantity Ordered</td>\n",
       "      <td>Price Each</td>\n",
       "      <td>Order Date</td>\n",
       "      <td>Purchase Address</td>\n",
       "    </tr>\n",
       "    <tr>\n",
       "      <th>1146</th>\n",
       "      <td>Order ID</td>\n",
       "      <td>Product</td>\n",
       "      <td>Quantity Ordered</td>\n",
       "      <td>Price Each</td>\n",
       "      <td>Order Date</td>\n",
       "      <td>Purchase Address</td>\n",
       "    </tr>\n",
       "    <tr>\n",
       "      <th>1152</th>\n",
       "      <td>Order ID</td>\n",
       "      <td>Product</td>\n",
       "      <td>Quantity Ordered</td>\n",
       "      <td>Price Each</td>\n",
       "      <td>Order Date</td>\n",
       "      <td>Purchase Address</td>\n",
       "    </tr>\n",
       "    <tr>\n",
       "      <th>2869</th>\n",
       "      <td>Order ID</td>\n",
       "      <td>Product</td>\n",
       "      <td>Quantity Ordered</td>\n",
       "      <td>Price Each</td>\n",
       "      <td>Order Date</td>\n",
       "      <td>Purchase Address</td>\n",
       "    </tr>\n",
       "    <tr>\n",
       "      <th>2884</th>\n",
       "      <td>Order ID</td>\n",
       "      <td>Product</td>\n",
       "      <td>Quantity Ordered</td>\n",
       "      <td>Price Each</td>\n",
       "      <td>Order Date</td>\n",
       "      <td>Purchase Address</td>\n",
       "    </tr>\n",
       "    <tr>\n",
       "      <th>...</th>\n",
       "      <td>...</td>\n",
       "      <td>...</td>\n",
       "      <td>...</td>\n",
       "      <td>...</td>\n",
       "      <td>...</td>\n",
       "      <td>...</td>\n",
       "    </tr>\n",
       "    <tr>\n",
       "      <th>184624</th>\n",
       "      <td>Order ID</td>\n",
       "      <td>Product</td>\n",
       "      <td>Quantity Ordered</td>\n",
       "      <td>Price Each</td>\n",
       "      <td>Order Date</td>\n",
       "      <td>Purchase Address</td>\n",
       "    </tr>\n",
       "    <tr>\n",
       "      <th>185009</th>\n",
       "      <td>Order ID</td>\n",
       "      <td>Product</td>\n",
       "      <td>Quantity Ordered</td>\n",
       "      <td>Price Each</td>\n",
       "      <td>Order Date</td>\n",
       "      <td>Purchase Address</td>\n",
       "    </tr>\n",
       "    <tr>\n",
       "      <th>186019</th>\n",
       "      <td>Order ID</td>\n",
       "      <td>Product</td>\n",
       "      <td>Quantity Ordered</td>\n",
       "      <td>Price Each</td>\n",
       "      <td>Order Date</td>\n",
       "      <td>Purchase Address</td>\n",
       "    </tr>\n",
       "    <tr>\n",
       "      <th>186088</th>\n",
       "      <td>Order ID</td>\n",
       "      <td>Product</td>\n",
       "      <td>Quantity Ordered</td>\n",
       "      <td>Price Each</td>\n",
       "      <td>Order Date</td>\n",
       "      <td>Purchase Address</td>\n",
       "    </tr>\n",
       "    <tr>\n",
       "      <th>186194</th>\n",
       "      <td>Order ID</td>\n",
       "      <td>Product</td>\n",
       "      <td>Quantity Ordered</td>\n",
       "      <td>Price Each</td>\n",
       "      <td>Order Date</td>\n",
       "      <td>Purchase Address</td>\n",
       "    </tr>\n",
       "  </tbody>\n",
       "</table>\n",
       "<p>355 rows × 6 columns</p>\n",
       "</div>"
      ],
      "text/plain": [
       "        Order ID  Product  Quantity Ordered  Price Each  Order Date  \\\n",
       "517     Order ID  Product  Quantity Ordered  Price Each  Order Date   \n",
       "1146    Order ID  Product  Quantity Ordered  Price Each  Order Date   \n",
       "1152    Order ID  Product  Quantity Ordered  Price Each  Order Date   \n",
       "2869    Order ID  Product  Quantity Ordered  Price Each  Order Date   \n",
       "2884    Order ID  Product  Quantity Ordered  Price Each  Order Date   \n",
       "...          ...      ...               ...         ...         ...   \n",
       "184624  Order ID  Product  Quantity Ordered  Price Each  Order Date   \n",
       "185009  Order ID  Product  Quantity Ordered  Price Each  Order Date   \n",
       "186019  Order ID  Product  Quantity Ordered  Price Each  Order Date   \n",
       "186088  Order ID  Product  Quantity Ordered  Price Each  Order Date   \n",
       "186194  Order ID  Product  Quantity Ordered  Price Each  Order Date   \n",
       "\n",
       "        Purchase Address  \n",
       "517     Purchase Address  \n",
       "1146    Purchase Address  \n",
       "1152    Purchase Address  \n",
       "2869    Purchase Address  \n",
       "2884    Purchase Address  \n",
       "...                  ...  \n",
       "184624  Purchase Address  \n",
       "185009  Purchase Address  \n",
       "186019  Purchase Address  \n",
       "186088  Purchase Address  \n",
       "186194  Purchase Address  \n",
       "\n",
       "[355 rows x 6 columns]"
      ]
     },
     "execution_count": 9,
     "metadata": {},
     "output_type": "execute_result"
    }
   ],
   "source": [
    "temp_df = sales_data[sales_data['Order Date'] == 'Order Date']\n",
    "temp_df "
   ]
  },
  {
   "cell_type": "markdown",
   "id": "responsible-wagon",
   "metadata": {},
   "source": [
    "It seems we have 355 rows of columns with just the column names! This is just a bunch of garbage so let's go ahead and remove that then try parsing our `Order Date` column into a datetime object"
   ]
  },
  {
   "cell_type": "code",
   "execution_count": 10,
   "id": "collectible-breath",
   "metadata": {},
   "outputs": [
    {
     "data": {
      "text/html": [
       "<div>\n",
       "<style scoped>\n",
       "    .dataframe tbody tr th:only-of-type {\n",
       "        vertical-align: middle;\n",
       "    }\n",
       "\n",
       "    .dataframe tbody tr th {\n",
       "        vertical-align: top;\n",
       "    }\n",
       "\n",
       "    .dataframe thead th {\n",
       "        text-align: right;\n",
       "    }\n",
       "</style>\n",
       "<table border=\"1\" class=\"dataframe\">\n",
       "  <thead>\n",
       "    <tr style=\"text-align: right;\">\n",
       "      <th></th>\n",
       "      <th>Order ID</th>\n",
       "      <th>Product</th>\n",
       "      <th>Quantity Ordered</th>\n",
       "      <th>Price Each</th>\n",
       "      <th>Order Date</th>\n",
       "      <th>Purchase Address</th>\n",
       "    </tr>\n",
       "  </thead>\n",
       "  <tbody>\n",
       "    <tr>\n",
       "      <th>0</th>\n",
       "      <td>176558</td>\n",
       "      <td>USB-C Charging Cable</td>\n",
       "      <td>2</td>\n",
       "      <td>11.95</td>\n",
       "      <td>2019-04-19 08:46:00</td>\n",
       "      <td>917 1st St, Dallas, TX 75001</td>\n",
       "    </tr>\n",
       "    <tr>\n",
       "      <th>1</th>\n",
       "      <td>176559</td>\n",
       "      <td>Bose SoundSport Headphones</td>\n",
       "      <td>1</td>\n",
       "      <td>99.99</td>\n",
       "      <td>2019-04-07 22:30:00</td>\n",
       "      <td>682 Chestnut St, Boston, MA 02215</td>\n",
       "    </tr>\n",
       "    <tr>\n",
       "      <th>2</th>\n",
       "      <td>176560</td>\n",
       "      <td>Google Phone</td>\n",
       "      <td>1</td>\n",
       "      <td>600</td>\n",
       "      <td>2019-04-12 14:38:00</td>\n",
       "      <td>669 Spruce St, Los Angeles, CA 90001</td>\n",
       "    </tr>\n",
       "    <tr>\n",
       "      <th>3</th>\n",
       "      <td>176560</td>\n",
       "      <td>Wired Headphones</td>\n",
       "      <td>1</td>\n",
       "      <td>11.99</td>\n",
       "      <td>2019-04-12 14:38:00</td>\n",
       "      <td>669 Spruce St, Los Angeles, CA 90001</td>\n",
       "    </tr>\n",
       "    <tr>\n",
       "      <th>4</th>\n",
       "      <td>176561</td>\n",
       "      <td>Wired Headphones</td>\n",
       "      <td>1</td>\n",
       "      <td>11.99</td>\n",
       "      <td>2019-04-30 09:27:00</td>\n",
       "      <td>333 8th St, Los Angeles, CA 90001</td>\n",
       "    </tr>\n",
       "  </tbody>\n",
       "</table>\n",
       "</div>"
      ],
      "text/plain": [
       "  Order ID                     Product Quantity Ordered Price Each  \\\n",
       "0   176558        USB-C Charging Cable                2      11.95   \n",
       "1   176559  Bose SoundSport Headphones                1      99.99   \n",
       "2   176560                Google Phone                1        600   \n",
       "3   176560            Wired Headphones                1      11.99   \n",
       "4   176561            Wired Headphones                1      11.99   \n",
       "\n",
       "           Order Date                      Purchase Address  \n",
       "0 2019-04-19 08:46:00          917 1st St, Dallas, TX 75001  \n",
       "1 2019-04-07 22:30:00     682 Chestnut St, Boston, MA 02215  \n",
       "2 2019-04-12 14:38:00  669 Spruce St, Los Angeles, CA 90001  \n",
       "3 2019-04-12 14:38:00  669 Spruce St, Los Angeles, CA 90001  \n",
       "4 2019-04-30 09:27:00     333 8th St, Los Angeles, CA 90001  "
      ]
     },
     "execution_count": 10,
     "metadata": {},
     "output_type": "execute_result"
    }
   ],
   "source": [
    "# rewrite sales_data to not include the rows with just the column names\n",
    "sales_data = sales_data[sales_data['Order Date'] != 'Order Date']\n",
    "\n",
    "# try to parse Order Date column again\n",
    "sales_data['Order Date'] = pd.to_datetime(sales_data['Order Date'])\n",
    "\n",
    "# check the info to see if the column changed\n",
    "sales_data.head()"
   ]
  },
  {
   "cell_type": "markdown",
   "id": "entertaining-enough",
   "metadata": {},
   "source": [
    "It worked! Now we can continue with changing the `Quantity Ordered` and `Price Each` to integer and float. We'll do this by using pandas function, `.astype()`"
   ]
  },
  {
   "cell_type": "code",
   "execution_count": 11,
   "id": "selected-trailer",
   "metadata": {},
   "outputs": [
    {
     "name": "stdout",
     "output_type": "stream",
     "text": [
      "<class 'pandas.core.frame.DataFrame'>\n",
      "Int64Index: 185950 entries, 0 to 186304\n",
      "Data columns (total 6 columns):\n",
      " #   Column            Non-Null Count   Dtype         \n",
      "---  ------            --------------   -----         \n",
      " 0   Order ID          185950 non-null  object        \n",
      " 1   Product           185950 non-null  object        \n",
      " 2   Quantity Ordered  185950 non-null  int32         \n",
      " 3   Price Each        185950 non-null  float64       \n",
      " 4   Order Date        185950 non-null  datetime64[ns]\n",
      " 5   Purchase Address  185950 non-null  object        \n",
      "dtypes: datetime64[ns](1), float64(1), int32(1), object(3)\n",
      "memory usage: 9.2+ MB\n"
     ]
    }
   ],
   "source": [
    "# convert the str values to numerical values\n",
    "sales_data['Quantity Ordered'] = sales_data['Quantity Ordered'].astype('int32')\n",
    "sales_data['Price Each'] = sales_data['Price Each'].astype('float64') # we use float since we're dealing with decimmals\n",
    "\n",
    "# check data\n",
    "sales_data.info()"
   ]
  },
  {
   "cell_type": "markdown",
   "id": "deluxe-hours",
   "metadata": {},
   "source": [
    "### Question 1: What was the best month for sales? How much was earned that month?\n",
    "\n",
    "What we're going to do is group by each month and calculate the total sales made for each month. Since we want to group by month, that means we'll need to create a `Month` column. After that, let's create a `Total Sales` column which is just  `Quantity Ordered` * `Price Each`"
   ]
  },
  {
   "cell_type": "code",
   "execution_count": 12,
   "id": "weird-northwest",
   "metadata": {},
   "outputs": [
    {
     "data": {
      "text/html": [
       "<div>\n",
       "<style scoped>\n",
       "    .dataframe tbody tr th:only-of-type {\n",
       "        vertical-align: middle;\n",
       "    }\n",
       "\n",
       "    .dataframe tbody tr th {\n",
       "        vertical-align: top;\n",
       "    }\n",
       "\n",
       "    .dataframe thead th {\n",
       "        text-align: right;\n",
       "    }\n",
       "</style>\n",
       "<table border=\"1\" class=\"dataframe\">\n",
       "  <thead>\n",
       "    <tr style=\"text-align: right;\">\n",
       "      <th></th>\n",
       "      <th>Month</th>\n",
       "      <th>Quantity Ordered</th>\n",
       "      <th>Price Each</th>\n",
       "      <th>Total Sales</th>\n",
       "    </tr>\n",
       "  </thead>\n",
       "  <tbody>\n",
       "    <tr>\n",
       "      <th>0</th>\n",
       "      <td>1</td>\n",
       "      <td>10903</td>\n",
       "      <td>1.811768e+06</td>\n",
       "      <td>1.822257e+06</td>\n",
       "    </tr>\n",
       "    <tr>\n",
       "      <th>1</th>\n",
       "      <td>2</td>\n",
       "      <td>13449</td>\n",
       "      <td>2.188885e+06</td>\n",
       "      <td>2.202022e+06</td>\n",
       "    </tr>\n",
       "    <tr>\n",
       "      <th>2</th>\n",
       "      <td>3</td>\n",
       "      <td>17005</td>\n",
       "      <td>2.791208e+06</td>\n",
       "      <td>2.807100e+06</td>\n",
       "    </tr>\n",
       "    <tr>\n",
       "      <th>3</th>\n",
       "      <td>4</td>\n",
       "      <td>20558</td>\n",
       "      <td>3.367671e+06</td>\n",
       "      <td>3.390670e+06</td>\n",
       "    </tr>\n",
       "    <tr>\n",
       "      <th>4</th>\n",
       "      <td>5</td>\n",
       "      <td>18667</td>\n",
       "      <td>3.135125e+06</td>\n",
       "      <td>3.152607e+06</td>\n",
       "    </tr>\n",
       "    <tr>\n",
       "      <th>5</th>\n",
       "      <td>6</td>\n",
       "      <td>15253</td>\n",
       "      <td>2.562026e+06</td>\n",
       "      <td>2.577802e+06</td>\n",
       "    </tr>\n",
       "    <tr>\n",
       "      <th>6</th>\n",
       "      <td>7</td>\n",
       "      <td>16072</td>\n",
       "      <td>2.632540e+06</td>\n",
       "      <td>2.647776e+06</td>\n",
       "    </tr>\n",
       "    <tr>\n",
       "      <th>7</th>\n",
       "      <td>8</td>\n",
       "      <td>13448</td>\n",
       "      <td>2.230345e+06</td>\n",
       "      <td>2.244468e+06</td>\n",
       "    </tr>\n",
       "    <tr>\n",
       "      <th>8</th>\n",
       "      <td>9</td>\n",
       "      <td>13109</td>\n",
       "      <td>2.084992e+06</td>\n",
       "      <td>2.097560e+06</td>\n",
       "    </tr>\n",
       "    <tr>\n",
       "      <th>9</th>\n",
       "      <td>10</td>\n",
       "      <td>22703</td>\n",
       "      <td>3.715555e+06</td>\n",
       "      <td>3.736727e+06</td>\n",
       "    </tr>\n",
       "    <tr>\n",
       "      <th>10</th>\n",
       "      <td>11</td>\n",
       "      <td>19798</td>\n",
       "      <td>3.180601e+06</td>\n",
       "      <td>3.199603e+06</td>\n",
       "    </tr>\n",
       "    <tr>\n",
       "      <th>11</th>\n",
       "      <td>12</td>\n",
       "      <td>28114</td>\n",
       "      <td>4.588415e+06</td>\n",
       "      <td>4.613443e+06</td>\n",
       "    </tr>\n",
       "  </tbody>\n",
       "</table>\n",
       "</div>"
      ],
      "text/plain": [
       "    Month  Quantity Ordered    Price Each   Total Sales\n",
       "0       1             10903  1.811768e+06  1.822257e+06\n",
       "1       2             13449  2.188885e+06  2.202022e+06\n",
       "2       3             17005  2.791208e+06  2.807100e+06\n",
       "3       4             20558  3.367671e+06  3.390670e+06\n",
       "4       5             18667  3.135125e+06  3.152607e+06\n",
       "5       6             15253  2.562026e+06  2.577802e+06\n",
       "6       7             16072  2.632540e+06  2.647776e+06\n",
       "7       8             13448  2.230345e+06  2.244468e+06\n",
       "8       9             13109  2.084992e+06  2.097560e+06\n",
       "9      10             22703  3.715555e+06  3.736727e+06\n",
       "10     11             19798  3.180601e+06  3.199603e+06\n",
       "11     12             28114  4.588415e+06  4.613443e+06"
      ]
     },
     "execution_count": 12,
     "metadata": {},
     "output_type": "execute_result"
    }
   ],
   "source": [
    "# extract just the month by using the datetime library \n",
    "sales_data['Month'] = sales_data['Order Date'].dt.month\n",
    "\n",
    "# create a Total Sales column\n",
    "sales_data['Total Sales'] = sales_data['Quantity Ordered'] * sales_data['Price Each']\n",
    "\n",
    "# group by month and find the total sales for each month\n",
    "month_sales = sales_data.groupby('Month').sum().reset_index()\n",
    "month_sales"
   ]
  },
  {
   "cell_type": "markdown",
   "id": "coral-vegetarian",
   "metadata": {},
   "source": [
    "Looks like **December** was the best month for sales! This could be because of all the gift shopping for Christmas, so it makes sense for it to be the month with the most sales\n",
    "\n",
    "**Visualize the data:** To get a better idea of what the data looks like, let's plot it using `matplotlib` and create a line plot to see the change in sales throughout the year."
   ]
  },
  {
   "cell_type": "code",
   "execution_count": 13,
   "id": "surprised-voluntary",
   "metadata": {},
   "outputs": [
    {
     "data": {
      "image/png": "[encoded data removed]",
      "text/plain": [
       "<Figure size 432x288 with 1 Axes>"
      ]
     },
     "metadata": {
      "needs_background": "light"
     },
     "output_type": "display_data"
    }
   ],
   "source": [
    "import matplotlib.pyplot as plt\n",
    "\n",
    "ax = plt.subplot()\n",
    "plt.plot(month_sales['Month'], month_sales['Total Sales'])\n",
    "plt.xlabel('Months')\n",
    "ax.set_xticks(month_sales['Month'])\n",
    "plt.ylabel('Total Sales')\n",
    "plt.title('Total Sales Earned for Each Month')\n",
    "plt.show()"
   ]
  },
  {
   "cell_type": "markdown",
   "id": "acknowledged-promotion",
   "metadata": {},
   "source": [
    "### Question 2: What city sold the most product?\n",
    "\n",
    "To approach this question, we're going to have to create a `City` column. If we take a look at the `Purchase Address` column, we'll see that it's formatted as **Address, City, State Zip**. All we'll need to do is separate at each `,` and extract the city!\n",
    "\n",
    "Then we can proceed to group by `City` and see which city sold the most products."
   ]
  },
  {
   "cell_type": "code",
   "execution_count": 14,
   "id": "comparative-latex",
   "metadata": {},
   "outputs": [
    {
     "data": {
      "text/html": [
       "<div>\n",
       "<style scoped>\n",
       "    .dataframe tbody tr th:only-of-type {\n",
       "        vertical-align: middle;\n",
       "    }\n",
       "\n",
       "    .dataframe tbody tr th {\n",
       "        vertical-align: top;\n",
       "    }\n",
       "\n",
       "    .dataframe thead th {\n",
       "        text-align: right;\n",
       "    }\n",
       "</style>\n",
       "<table border=\"1\" class=\"dataframe\">\n",
       "  <thead>\n",
       "    <tr style=\"text-align: right;\">\n",
       "      <th></th>\n",
       "      <th>City</th>\n",
       "      <th>Quantity Ordered</th>\n",
       "    </tr>\n",
       "  </thead>\n",
       "  <tbody>\n",
       "    <tr>\n",
       "      <th>0</th>\n",
       "      <td>San Francisco, CA</td>\n",
       "      <td>44732</td>\n",
       "    </tr>\n",
       "    <tr>\n",
       "      <th>1</th>\n",
       "      <td>Los Angeles, CA</td>\n",
       "      <td>29605</td>\n",
       "    </tr>\n",
       "    <tr>\n",
       "      <th>2</th>\n",
       "      <td>New York City, NY</td>\n",
       "      <td>24876</td>\n",
       "    </tr>\n",
       "    <tr>\n",
       "      <th>3</th>\n",
       "      <td>Boston, MA</td>\n",
       "      <td>19934</td>\n",
       "    </tr>\n",
       "    <tr>\n",
       "      <th>4</th>\n",
       "      <td>Atlanta, GA</td>\n",
       "      <td>14881</td>\n",
       "    </tr>\n",
       "    <tr>\n",
       "      <th>5</th>\n",
       "      <td>Dallas, TX</td>\n",
       "      <td>14820</td>\n",
       "    </tr>\n",
       "    <tr>\n",
       "      <th>6</th>\n",
       "      <td>Seattle, WA</td>\n",
       "      <td>14732</td>\n",
       "    </tr>\n",
       "    <tr>\n",
       "      <th>7</th>\n",
       "      <td>Portland, OR</td>\n",
       "      <td>10010</td>\n",
       "    </tr>\n",
       "    <tr>\n",
       "      <th>8</th>\n",
       "      <td>Austin, TX</td>\n",
       "      <td>9905</td>\n",
       "    </tr>\n",
       "    <tr>\n",
       "      <th>9</th>\n",
       "      <td>Portland, ME</td>\n",
       "      <td>2455</td>\n",
       "    </tr>\n",
       "  </tbody>\n",
       "</table>\n",
       "</div>"
      ],
      "text/plain": [
       "                City  Quantity Ordered\n",
       "0  San Francisco, CA             44732\n",
       "1    Los Angeles, CA             29605\n",
       "2  New York City, NY             24876\n",
       "3         Boston, MA             19934\n",
       "4        Atlanta, GA             14881\n",
       "5         Dallas, TX             14820\n",
       "6        Seattle, WA             14732\n",
       "7       Portland, OR             10010\n",
       "8         Austin, TX              9905\n",
       "9       Portland, ME              2455"
      ]
     },
     "execution_count": 14,
     "metadata": {},
     "output_type": "execute_result"
    }
   ],
   "source": [
    "# we'll use .split() to split at each comma\n",
    "sales_data['City'] = sales_data['Purchase Address'].apply(lambda x: x.split(', ')[1] # the city will be in index 1 of the \n",
    "                                                         + ', ' + x.split()[-2]) # list that's created from .split()\n",
    "                                                                                  # and the state is the -2 index\n",
    "# insepect data\n",
    "# sales_data.head()\n",
    "\n",
    "# group by City and count the number of products sold\n",
    "city_total = sales_data.groupby('City')['Quantity Ordered'].count().reset_index()\n",
    "city_total.sort_values(by='Quantity Ordered', ascending=False, ignore_index=True)"
   ]
  },
  {
   "cell_type": "markdown",
   "id": "wireless-michael",
   "metadata": {},
   "source": [
    "We included the state because you can see that there are two `Portland`'s listed. If we didn't take that into account then our analysis would show it as one city rather than two separate cities.\n",
    "\n",
    "It seems that **San Francisco** is the city the sold the most products. This would make sense considering the products in our data are mainly tech items and the infamous *Silicon Valley*, land of tech, is located in the northern part of California.\n",
    "\n",
    "**Visualize the data:** This time we're going to use `seaborn` to create our bar plot "
   ]
  },
  {
   "cell_type": "code",
   "execution_count": 15,
   "id": "portable-airport",
   "metadata": {},
   "outputs": [
    {
     "data": {
      "image/png": "[encoded data removed]",
      "text/plain": [
       "<Figure size 720x576 with 1 Axes>"
      ]
     },
     "metadata": {},
     "output_type": "display_data"
    }
   ],
   "source": [
    "import seaborn as sns\n",
    "\n",
    "# set theme however you desire\n",
    "sns.set_palette('pastel')\n",
    "sns.set_style('white')\n",
    "\n",
    "# create bar plot\n",
    "fig = plt.figure(figsize=(10,8))\n",
    "ax = sns.barplot(x='City', y='Quantity Ordered', data=city_total)\n",
    "plt.xticks(rotation=65, size=12) # rotate the xtick labels so we can clearly see the city names\n",
    "plt.yticks(size=12)\n",
    "ax.set_xlabel('City', fontsize=12)\n",
    "ax.set_ylabel('# Products Ordered', fontsize=12)\n",
    "plt.title('Total Products Ordered per City', size=14)\n",
    "plt.show()"
   ]
  },
  {
   "cell_type": "markdown",
   "id": "further-arbitration",
   "metadata": {},
   "source": [
    "### Question 3: What time should we display advertisments to maximize the likelihood of customer's buying product?\n",
    "\n",
    "As we did to extract the `Month` column, we will approach creating an `Hour` column in a similar fashion. Then we can group by the `Hour` column and see when customers are more likely to purchase a product"
   ]
  },
  {
   "cell_type": "code",
   "execution_count": 16,
   "id": "realistic-shepherd",
   "metadata": {},
   "outputs": [
    {
     "data": {
      "text/html": [
       "<div>\n",
       "<style scoped>\n",
       "    .dataframe tbody tr th:only-of-type {\n",
       "        vertical-align: middle;\n",
       "    }\n",
       "\n",
       "    .dataframe tbody tr th {\n",
       "        vertical-align: top;\n",
       "    }\n",
       "\n",
       "    .dataframe thead th {\n",
       "        text-align: right;\n",
       "    }\n",
       "</style>\n",
       "<table border=\"1\" class=\"dataframe\">\n",
       "  <thead>\n",
       "    <tr style=\"text-align: right;\">\n",
       "      <th></th>\n",
       "      <th>Hour</th>\n",
       "      <th>Quantity Ordered</th>\n",
       "    </tr>\n",
       "  </thead>\n",
       "  <tbody>\n",
       "    <tr>\n",
       "      <th>19</th>\n",
       "      <td>19</td>\n",
       "      <td>12905</td>\n",
       "    </tr>\n",
       "  </tbody>\n",
       "</table>\n",
       "</div>"
      ],
      "text/plain": [
       "    Hour  Quantity Ordered\n",
       "19    19             12905"
      ]
     },
     "execution_count": 16,
     "metadata": {},
     "output_type": "execute_result"
    }
   ],
   "source": [
    "# create Hour column\n",
    "sales_data['Hour'] = sales_data['Order Date'].dt.hour\n",
    "\n",
    "# group by Hour and see when customers are more likely to purchase products\n",
    "hour_sales = sales_data.groupby('Hour')['Quantity Ordered'].count().reset_index()\n",
    "\n",
    "# find peak hour\n",
    "hour_sales['Quantity Ordered'].max() # gives us 12905\n",
    "peak_hour = hour_sales[hour_sales['Quantity Ordered'] == 12905] # find what hour represents the max\n",
    "peak_hour # hour 19 (7PM)\n",
    "\n",
    "# or you could just sort the values in descending order\n",
    "# hour_sales.sort_values(by='Quantity Ordered', ascending=False, ignore_index=True) "
   ]
  },
  {
   "cell_type": "markdown",
   "id": "contemporary-hometown",
   "metadata": {},
   "source": [
    "For the company to potentially reach their audience at their most active buying time, they should display advertisements at around the 19th hour, or 7PM\n",
    "\n",
    "**Visualize the data**"
   ]
  },
  {
   "cell_type": "code",
   "execution_count": 17,
   "id": "piano-basket",
   "metadata": {},
   "outputs": [
    {
     "data": {
      "image/png": "[encoded data removed]",
      "text/plain": [
       "<Figure size 576x432 with 1 Axes>"
      ]
     },
     "metadata": {},
     "output_type": "display_data"
    }
   ],
   "source": [
    "# set theme\n",
    "sns.set_style('white')\n",
    "\n",
    "# plot data\n",
    "fig = plt.figure(figsize = (8,6))\n",
    "ax = sns.lineplot(data=hour_sales, x='Hour', y='Quantity Ordered',\n",
    "                 linewidth=3, color='blue')\n",
    "plt.xticks(size=12)\n",
    "plt.yticks(size=12)\n",
    "ax.set_xlabel('Hour', fontsize=14)\n",
    "ax.set_ylabel('Quantity Ordered', fontsize=14)\n",
    "ax.set_title('Total Products Ordered at Each Hour (0-23)',fontsize=16)\n",
    "sns.despine()\n",
    "plt.show()"
   ]
  },
  {
   "cell_type": "markdown",
   "id": "leading-uncertainty",
   "metadata": {},
   "source": [
    "\n"
   ]
  },
  {
   "cell_type": "markdown",
   "id": "legendary-madison",
   "metadata": {},
   "source": [
    "### Question 4: What products are most often sold together?\n",
    "\n",
    "The thought process here is figuring out what products were sold together. If you check the data, you'll see that products sold togehter will have the same `Order ID` and `Purchase Address`. Therefore, the goal here is to collect all the duplicated data and list the products sold together that correspond to the same `Order ID`."
   ]
  },
  {
   "cell_type": "code",
   "execution_count": 19,
   "id": "bigger-douglas",
   "metadata": {},
   "outputs": [
    {
     "data": {
      "text/html": [
       "<div>\n",
       "<style scoped>\n",
       "    .dataframe tbody tr th:only-of-type {\n",
       "        vertical-align: middle;\n",
       "    }\n",
       "\n",
       "    .dataframe tbody tr th {\n",
       "        vertical-align: top;\n",
       "    }\n",
       "\n",
       "    .dataframe thead th {\n",
       "        text-align: right;\n",
       "    }\n",
       "</style>\n",
       "<table border=\"1\" class=\"dataframe\">\n",
       "  <thead>\n",
       "    <tr style=\"text-align: right;\">\n",
       "      <th></th>\n",
       "      <th>Order ID</th>\n",
       "      <th>Product</th>\n",
       "      <th>Quantity Ordered</th>\n",
       "      <th>Price Each</th>\n",
       "      <th>Order Date</th>\n",
       "      <th>Purchase Address</th>\n",
       "      <th>Month</th>\n",
       "      <th>Total Sales</th>\n",
       "      <th>City</th>\n",
       "      <th>Hour</th>\n",
       "    </tr>\n",
       "  </thead>\n",
       "  <tbody>\n",
       "    <tr>\n",
       "      <th>2</th>\n",
       "      <td>176560</td>\n",
       "      <td>Google Phone</td>\n",
       "      <td>1</td>\n",
       "      <td>600.00</td>\n",
       "      <td>2019-04-12 14:38:00</td>\n",
       "      <td>669 Spruce St, Los Angeles, CA 90001</td>\n",
       "      <td>4</td>\n",
       "      <td>600.00</td>\n",
       "      <td>Los Angeles, CA</td>\n",
       "      <td>14</td>\n",
       "    </tr>\n",
       "    <tr>\n",
       "      <th>3</th>\n",
       "      <td>176560</td>\n",
       "      <td>Wired Headphones</td>\n",
       "      <td>1</td>\n",
       "      <td>11.99</td>\n",
       "      <td>2019-04-12 14:38:00</td>\n",
       "      <td>669 Spruce St, Los Angeles, CA 90001</td>\n",
       "      <td>4</td>\n",
       "      <td>11.99</td>\n",
       "      <td>Los Angeles, CA</td>\n",
       "      <td>14</td>\n",
       "    </tr>\n",
       "    <tr>\n",
       "      <th>17</th>\n",
       "      <td>176574</td>\n",
       "      <td>Google Phone</td>\n",
       "      <td>1</td>\n",
       "      <td>600.00</td>\n",
       "      <td>2019-04-03 19:42:00</td>\n",
       "      <td>20 Hill St, Los Angeles, CA 90001</td>\n",
       "      <td>4</td>\n",
       "      <td>600.00</td>\n",
       "      <td>Los Angeles, CA</td>\n",
       "      <td>19</td>\n",
       "    </tr>\n",
       "    <tr>\n",
       "      <th>18</th>\n",
       "      <td>176574</td>\n",
       "      <td>USB-C Charging Cable</td>\n",
       "      <td>1</td>\n",
       "      <td>11.95</td>\n",
       "      <td>2019-04-03 19:42:00</td>\n",
       "      <td>20 Hill St, Los Angeles, CA 90001</td>\n",
       "      <td>4</td>\n",
       "      <td>11.95</td>\n",
       "      <td>Los Angeles, CA</td>\n",
       "      <td>19</td>\n",
       "    </tr>\n",
       "    <tr>\n",
       "      <th>29</th>\n",
       "      <td>176585</td>\n",
       "      <td>Bose SoundSport Headphones</td>\n",
       "      <td>1</td>\n",
       "      <td>99.99</td>\n",
       "      <td>2019-04-07 11:31:00</td>\n",
       "      <td>823 Highland St, Boston, MA 02215</td>\n",
       "      <td>4</td>\n",
       "      <td>99.99</td>\n",
       "      <td>Boston, MA</td>\n",
       "      <td>11</td>\n",
       "    </tr>\n",
       "  </tbody>\n",
       "</table>\n",
       "</div>"
      ],
      "text/plain": [
       "   Order ID                     Product  Quantity Ordered  Price Each  \\\n",
       "2    176560                Google Phone                 1      600.00   \n",
       "3    176560            Wired Headphones                 1       11.99   \n",
       "17   176574                Google Phone                 1      600.00   \n",
       "18   176574        USB-C Charging Cable                 1       11.95   \n",
       "29   176585  Bose SoundSport Headphones                 1       99.99   \n",
       "\n",
       "            Order Date                      Purchase Address  Month  \\\n",
       "2  2019-04-12 14:38:00  669 Spruce St, Los Angeles, CA 90001      4   \n",
       "3  2019-04-12 14:38:00  669 Spruce St, Los Angeles, CA 90001      4   \n",
       "17 2019-04-03 19:42:00     20 Hill St, Los Angeles, CA 90001      4   \n",
       "18 2019-04-03 19:42:00     20 Hill St, Los Angeles, CA 90001      4   \n",
       "29 2019-04-07 11:31:00     823 Highland St, Boston, MA 02215      4   \n",
       "\n",
       "    Total Sales             City  Hour  \n",
       "2        600.00  Los Angeles, CA    14  \n",
       "3         11.99  Los Angeles, CA    14  \n",
       "17       600.00  Los Angeles, CA    19  \n",
       "18        11.95  Los Angeles, CA    19  \n",
       "29        99.99       Boston, MA    11  "
      ]
     },
     "execution_count": 19,
     "metadata": {},
     "output_type": "execute_result"
    }
   ],
   "source": [
    "# we're going to create a separate df that lists all the duplicate Order IDs\n",
    "duplicate_df = sales_data[sales_data['Order ID'].duplicated(keep=False)] # the parameter keep=False means we want to see all the duplicates\n",
    "\n",
    "# inspect data\n",
    "duplicate_df.head()\n"
   ]
  },
  {
   "cell_type": "markdown",
   "id": "bound-factor",
   "metadata": {},
   "source": [
    "We see that the first two `Order ID`s are the same meaning that those products were sold together.\n",
    "\n",
    "The next step is to create a column that lists all the products purchased under that `Order ID`. We can then drop all the duplicates and keep just the orders since it will contain a column with all the purchased products."
   ]
  },
  {
   "cell_type": "code",
   "execution_count": 20,
   "id": "completed-laser",
   "metadata": {},
   "outputs": [
    {
     "name": "stderr",
     "output_type": "stream",
     "text": [
      "C:\\Users\\diamo\\miniconda3\\lib\\site-packages\\ipykernel_launcher.py:2: SettingWithCopyWarning: \n",
      "A value is trying to be set on a copy of a slice from a DataFrame.\n",
      "Try using .loc[row_indexer,col_indexer] = value instead\n",
      "\n",
      "See the caveats in the documentation: https://pandas.pydata.org/pandas-docs/stable/user_guide/indexing.html#returning-a-view-versus-a-copy\n",
      "  \n"
     ]
    },
    {
     "data": {
      "text/html": [
       "<div>\n",
       "<style scoped>\n",
       "    .dataframe tbody tr th:only-of-type {\n",
       "        vertical-align: middle;\n",
       "    }\n",
       "\n",
       "    .dataframe tbody tr th {\n",
       "        vertical-align: top;\n",
       "    }\n",
       "\n",
       "    .dataframe thead th {\n",
       "        text-align: right;\n",
       "    }\n",
       "</style>\n",
       "<table border=\"1\" class=\"dataframe\">\n",
       "  <thead>\n",
       "    <tr style=\"text-align: right;\">\n",
       "      <th></th>\n",
       "      <th>Order ID</th>\n",
       "      <th>Purchased Together</th>\n",
       "    </tr>\n",
       "  </thead>\n",
       "  <tbody>\n",
       "    <tr>\n",
       "      <th>2</th>\n",
       "      <td>176560</td>\n",
       "      <td>Google Phone, Wired Headphones</td>\n",
       "    </tr>\n",
       "    <tr>\n",
       "      <th>17</th>\n",
       "      <td>176574</td>\n",
       "      <td>Google Phone, USB-C Charging Cable</td>\n",
       "    </tr>\n",
       "    <tr>\n",
       "      <th>29</th>\n",
       "      <td>176585</td>\n",
       "      <td>Bose SoundSport Headphones, Bose SoundSport He...</td>\n",
       "    </tr>\n",
       "    <tr>\n",
       "      <th>31</th>\n",
       "      <td>176586</td>\n",
       "      <td>AAA Batteries (4-pack), Google Phone</td>\n",
       "    </tr>\n",
       "    <tr>\n",
       "      <th>118</th>\n",
       "      <td>176672</td>\n",
       "      <td>Lightning Charging Cable, USB-C Charging Cable</td>\n",
       "    </tr>\n",
       "  </tbody>\n",
       "</table>\n",
       "</div>"
      ],
      "text/plain": [
       "    Order ID                                 Purchased Together\n",
       "2     176560                     Google Phone, Wired Headphones\n",
       "17    176574                 Google Phone, USB-C Charging Cable\n",
       "29    176585  Bose SoundSport Headphones, Bose SoundSport He...\n",
       "31    176586               AAA Batteries (4-pack), Google Phone\n",
       "118   176672     Lightning Charging Cable, USB-C Charging Cable"
      ]
     },
     "execution_count": 20,
     "metadata": {},
     "output_type": "execute_result"
    }
   ],
   "source": [
    "# create column that joins the values in the Product column together\n",
    "duplicate_df['Purchased Together'] = duplicate_df.groupby('Order ID')['Product'].transform(lambda x: ', '.join(x))\n",
    "\n",
    "# recreate df with just the Order ID and Purchased Together column and drop the duplicates\n",
    "duplicate_df = duplicate_df[['Order ID', 'Purchased Together']].drop_duplicates()\n",
    "\n",
    "# inspect data\n",
    "duplicate_df.head() # ignore warning"
   ]
  },
  {
   "cell_type": "markdown",
   "id": "brutal-indiana",
   "metadata": {},
   "source": [
    "*This was a more challenging portion of the question. I referenced the video included at the top of this notebook for guidance*\n",
    "\n",
    "We'll now utilize two new libraries that will count the number of combinations and create a dictionary of those combinations. Our result will show us each combination and then the number of times it occured in our `duplicate_df` "
   ]
  },
  {
   "cell_type": "code",
   "execution_count": 21,
   "id": "specific-anthony",
   "metadata": {},
   "outputs": [
    {
     "name": "stdout",
     "output_type": "stream",
     "text": [
      "('iPhone', ' Lightning Charging Cable') 1005\n",
      "('Google Phone', ' USB-C Charging Cable') 987\n",
      "('iPhone', ' Wired Headphones') 447\n",
      "('Google Phone', ' Wired Headphones') 414\n",
      "('Vareebadd Phone', ' USB-C Charging Cable') 361\n"
     ]
    }
   ],
   "source": [
    "# Reference: https://stackoverflow.com/questions/52195887/counting-unique-pairs-of-numbers-into-a-python-dictionary\n",
    "\n",
    "from itertools import combinations # this tool will return the combinations found in our df\n",
    "from collections import Counter # this tool will create our dictionary with the combinations as the \n",
    "                               # keys and the count as the value\n",
    "\n",
    "count = Counter() # set Counter() object\n",
    "\n",
    "for item in duplicate_df['Purchased Together']: # we will loop through each item in the Purchased Together column\n",
    "    item_list = item.split(',') # want to separate each item into a list\n",
    "    count.update(Counter(combinations(item_list,2))) # then update our Counter() object on the # of times a \n",
    "                                                    # 2-pair combination occurs in the list\n",
    "    \n",
    "for key, value in count.most_common(5): # this will return the top 5 produts sold together and the count\n",
    "    print(key,value)"
   ]
  },
  {
   "cell_type": "markdown",
   "id": "patient-possibility",
   "metadata": {},
   "source": [
    "We'll see here that the items `iPhone` and `Lightning Charging Cable` were sold together `1005` times. This makes sense considering when you buy a new phone, you would want to purchase the charging cable if it does not come with the phone or maybe just an extra cable for work or the car."
   ]
  },
  {
   "cell_type": "markdown",
   "id": "protecting-fitting",
   "metadata": {},
   "source": [
    "### Question 5: What product sold the most? Why do you think it sold the most?"
   ]
  },
  {
   "cell_type": "markdown",
   "id": "appreciated-discount",
   "metadata": {},
   "source": [
    "We'll do another groupby function and view the top 5 most sold products then visualize the data."
   ]
  },
  {
   "cell_type": "code",
   "execution_count": 43,
   "id": "greatest-anniversary",
   "metadata": {},
   "outputs": [
    {
     "data": {
      "text/html": [
       "<div>\n",
       "<style scoped>\n",
       "    .dataframe tbody tr th:only-of-type {\n",
       "        vertical-align: middle;\n",
       "    }\n",
       "\n",
       "    .dataframe tbody tr th {\n",
       "        vertical-align: top;\n",
       "    }\n",
       "\n",
       "    .dataframe thead th {\n",
       "        text-align: right;\n",
       "    }\n",
       "</style>\n",
       "<table border=\"1\" class=\"dataframe\">\n",
       "  <thead>\n",
       "    <tr style=\"text-align: right;\">\n",
       "      <th></th>\n",
       "      <th>Product</th>\n",
       "      <th>Quantity Ordered</th>\n",
       "    </tr>\n",
       "  </thead>\n",
       "  <tbody>\n",
       "    <tr>\n",
       "      <th>0</th>\n",
       "      <td>AAA Batteries (4-pack)</td>\n",
       "      <td>31017</td>\n",
       "    </tr>\n",
       "    <tr>\n",
       "      <th>1</th>\n",
       "      <td>AA Batteries (4-pack)</td>\n",
       "      <td>27635</td>\n",
       "    </tr>\n",
       "    <tr>\n",
       "      <th>2</th>\n",
       "      <td>USB-C Charging Cable</td>\n",
       "      <td>23975</td>\n",
       "    </tr>\n",
       "    <tr>\n",
       "      <th>3</th>\n",
       "      <td>Lightning Charging Cable</td>\n",
       "      <td>23217</td>\n",
       "    </tr>\n",
       "    <tr>\n",
       "      <th>4</th>\n",
       "      <td>Wired Headphones</td>\n",
       "      <td>20557</td>\n",
       "    </tr>\n",
       "  </tbody>\n",
       "</table>\n",
       "</div>"
      ],
      "text/plain": [
       "                    Product  Quantity Ordered\n",
       "0    AAA Batteries (4-pack)             31017\n",
       "1     AA Batteries (4-pack)             27635\n",
       "2      USB-C Charging Cable             23975\n",
       "3  Lightning Charging Cable             23217\n",
       "4          Wired Headphones             20557"
      ]
     },
     "execution_count": 43,
     "metadata": {},
     "output_type": "execute_result"
    }
   ],
   "source": [
    "# groupby Product and Quantity Ordered\n",
    "products_sold = sales_data.groupby('Product')['Quantity Ordered'].sum().reset_index() # sum because we want to add each order\n",
    "\n",
    "# sort descending\n",
    "products_sold = products_sold.sort_values(by='Quantity Ordered', ascending=False, ignore_index=True) \n",
    "\n",
    "# view data\n",
    "products_sold.head()"
   ]
  },
  {
   "cell_type": "code",
   "execution_count": 46,
   "id": "compressed-brisbane",
   "metadata": {},
   "outputs": [
    {
     "data": {
      "image/png": "[encoded data removed]",
      "text/plain": [
       "<Figure size 720x576 with 1 Axes>"
      ]
     },
     "metadata": {},
     "output_type": "display_data"
    }
   ],
   "source": [
    "# set theme for plot\n",
    "sns.set_style('darkgrid')\n",
    "sns.color_palette()\n",
    "\n",
    "# plot data \n",
    "fig = plt.figure(figsize=(10,8))\n",
    "ax = sns.barplot(x='Product', y='Quantity Ordered', data=products_sold)\n",
    "plt.xticks(rotation=85, size=12)\n",
    "plt.yticks(size=12)\n",
    "ax.set_xlabel('Products', fontsize=12)\n",
    "ax.set_ylabel('Quantity Ordered',fontsize=12)\n",
    "ax.set_title('The Total Number Sold for Each Product', fontsize=14)\n",
    "plt.show()"
   ]
  },
  {
   "cell_type": "markdown",
   "id": "swedish-central",
   "metadata": {},
   "source": [
    "## Conclusion\n",
    "\n",
    "After completing this project, we were able to utilize the following python libraries the to do our analysis:\n",
    "* `pandas`\n",
    "* `matplotlib`\n",
    "* `seaborn`\n",
    "* `itertools`\n",
    "* `collections`\n",
    "\n",
    "We were able to import the data, clean the data by removing all the `NaN` values, and then export the clean data into a new `.csv` file. For the **first question**, we found December to be the month with the best sells which we concluded was due to the Christmas holidays where lots of gift shopping takes place. For the **second question**, we saw that San Francisco, CA sold the most products. Given that this data provided sales of tech products, this would make sense since San Francisco, CA is within Silicon Valley, a big tech land. \n",
    "\n",
    "The **third question** asked us to find what time would be best to display advertisements in hopes of customers being likely to make a purchase. The peak hour showed that 7PM was the best time, but if we looked at our graph we'd see that posting advertisements around 11AM would work as well. The **fourth question** was a bit more challenging but once we were able to analyze our data, we saw that the most common pair of products sold together were the iPhone and Lightning Charging Cable. Lastly, the **fifth question** asked us to find what product sold the most and we were able to find that AAA Batteries were sold the most. The reason why could be as simple as batteries are still very commonly used in products like remotes and other battery-powered items.\n",
    "\n",
    "In summary, this project is a good way to practice your data cleaning, data manipulation, and data visualization skills. You work with real-world sales data and answer common questions that are asked in the data science world in business. \n"
   ]
  }
 ],
 "metadata": {
  "kernelspec": {
   "display_name": "Python [conda env:root] *",
   "language": "python",
   "name": "conda-root-py"
  },
  "language_info": {
   "codemirror_mode": {
    "name": "ipython",
    "version": 3
   },
   "file_extension": ".py",
   "mimetype": "text/x-python",
   "name": "python",
   "nbconvert_exporter": "python",
   "pygments_lexer": "ipython3",
   "version": "3.6.12"
  }
 },
 "nbformat": 4,
 "nbformat_minor": 5
}

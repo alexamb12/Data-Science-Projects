{
 "cells": [
  {
   "cell_type": "markdown",
   "id": "tender-devil",
   "metadata": {},
   "source": [
    "You can find this course on Kaggle's [Intro To Machine Learning](https://www.kaggle.com/learn/intro-to-machine-learning)\n",
    "\n",
    "# Introduction\n",
    "In this exercise, you will create and submit predictions for a Kaggle competition. You can then improve your model (e.g. by adding features) to improve and see how you stack up to others taking this course.\n",
    "\n",
    "The focus of this notebook are:\n",
    "\n",
    "1. Build a Random Forest model with all of your data (X and y).\n",
    "2. Read in the \"test\" data, which doesn't include values for the target. Predict home values in the test data with your Random Forest model.\n",
    "3. Submit those predictions to the competition and see your score.\n",
    "4. Optionally, come back to see if you can improve your model by adding features or changing your model. Then you can resubmit to see how that stacks up on the competition leaderboard.\n",
    "\n",
    "# Tasks\n",
    "Before building our model and submiting those predictions to the competition, we'll do a step-by-step process from loading the data to preparing it for our model.\n",
    "\n",
    "These steps consist of:\n",
    "\n",
    "1. Loading the Data\n",
    "2. Inspecting the Data (i.e identifying the prediction target and features) \n",
    "3. Split the Data\n",
    "4. Build Model\n",
    "5. Create Model for Competition"
   ]
  },
  {
   "cell_type": "markdown",
   "id": "broadband-catalyst",
   "metadata": {},
   "source": [
    "# Task 1: Load the data\n",
    "\n",
    "We'll use the python library `pandas` to load and view our data"
   ]
  },
  {
   "cell_type": "code",
   "execution_count": 1,
   "id": "undefined-simon",
   "metadata": {},
   "outputs": [
    {
     "data": {
      "text/html": [
       "<div>\n",
       "<style scoped>\n",
       "    .dataframe tbody tr th:only-of-type {\n",
       "        vertical-align: middle;\n",
       "    }\n",
       "\n",
       "    .dataframe tbody tr th {\n",
       "        vertical-align: top;\n",
       "    }\n",
       "\n",
       "    .dataframe thead th {\n",
       "        text-align: right;\n",
       "    }\n",
       "</style>\n",
       "<table border=\"1\" class=\"dataframe\">\n",
       "  <thead>\n",
       "    <tr style=\"text-align: right;\">\n",
       "      <th></th>\n",
       "      <th>Id</th>\n",
       "      <th>MSSubClass</th>\n",
       "      <th>MSZoning</th>\n",
       "      <th>LotFrontage</th>\n",
       "      <th>LotArea</th>\n",
       "      <th>Street</th>\n",
       "      <th>Alley</th>\n",
       "      <th>LotShape</th>\n",
       "      <th>LandContour</th>\n",
       "      <th>Utilities</th>\n",
       "      <th>...</th>\n",
       "      <th>PoolArea</th>\n",
       "      <th>PoolQC</th>\n",
       "      <th>Fence</th>\n",
       "      <th>MiscFeature</th>\n",
       "      <th>MiscVal</th>\n",
       "      <th>MoSold</th>\n",
       "      <th>YrSold</th>\n",
       "      <th>SaleType</th>\n",
       "      <th>SaleCondition</th>\n",
       "      <th>SalePrice</th>\n",
       "    </tr>\n",
       "  </thead>\n",
       "  <tbody>\n",
       "    <tr>\n",
       "      <th>0</th>\n",
       "      <td>1</td>\n",
       "      <td>60</td>\n",
       "      <td>RL</td>\n",
       "      <td>65.0</td>\n",
       "      <td>8450</td>\n",
       "      <td>Pave</td>\n",
       "      <td>NaN</td>\n",
       "      <td>Reg</td>\n",
       "      <td>Lvl</td>\n",
       "      <td>AllPub</td>\n",
       "      <td>...</td>\n",
       "      <td>0</td>\n",
       "      <td>NaN</td>\n",
       "      <td>NaN</td>\n",
       "      <td>NaN</td>\n",
       "      <td>0</td>\n",
       "      <td>2</td>\n",
       "      <td>2008</td>\n",
       "      <td>WD</td>\n",
       "      <td>Normal</td>\n",
       "      <td>208500</td>\n",
       "    </tr>\n",
       "    <tr>\n",
       "      <th>1</th>\n",
       "      <td>2</td>\n",
       "      <td>20</td>\n",
       "      <td>RL</td>\n",
       "      <td>80.0</td>\n",
       "      <td>9600</td>\n",
       "      <td>Pave</td>\n",
       "      <td>NaN</td>\n",
       "      <td>Reg</td>\n",
       "      <td>Lvl</td>\n",
       "      <td>AllPub</td>\n",
       "      <td>...</td>\n",
       "      <td>0</td>\n",
       "      <td>NaN</td>\n",
       "      <td>NaN</td>\n",
       "      <td>NaN</td>\n",
       "      <td>0</td>\n",
       "      <td>5</td>\n",
       "      <td>2007</td>\n",
       "      <td>WD</td>\n",
       "      <td>Normal</td>\n",
       "      <td>181500</td>\n",
       "    </tr>\n",
       "    <tr>\n",
       "      <th>2</th>\n",
       "      <td>3</td>\n",
       "      <td>60</td>\n",
       "      <td>RL</td>\n",
       "      <td>68.0</td>\n",
       "      <td>11250</td>\n",
       "      <td>Pave</td>\n",
       "      <td>NaN</td>\n",
       "      <td>IR1</td>\n",
       "      <td>Lvl</td>\n",
       "      <td>AllPub</td>\n",
       "      <td>...</td>\n",
       "      <td>0</td>\n",
       "      <td>NaN</td>\n",
       "      <td>NaN</td>\n",
       "      <td>NaN</td>\n",
       "      <td>0</td>\n",
       "      <td>9</td>\n",
       "      <td>2008</td>\n",
       "      <td>WD</td>\n",
       "      <td>Normal</td>\n",
       "      <td>223500</td>\n",
       "    </tr>\n",
       "    <tr>\n",
       "      <th>3</th>\n",
       "      <td>4</td>\n",
       "      <td>70</td>\n",
       "      <td>RL</td>\n",
       "      <td>60.0</td>\n",
       "      <td>9550</td>\n",
       "      <td>Pave</td>\n",
       "      <td>NaN</td>\n",
       "      <td>IR1</td>\n",
       "      <td>Lvl</td>\n",
       "      <td>AllPub</td>\n",
       "      <td>...</td>\n",
       "      <td>0</td>\n",
       "      <td>NaN</td>\n",
       "      <td>NaN</td>\n",
       "      <td>NaN</td>\n",
       "      <td>0</td>\n",
       "      <td>2</td>\n",
       "      <td>2006</td>\n",
       "      <td>WD</td>\n",
       "      <td>Abnorml</td>\n",
       "      <td>140000</td>\n",
       "    </tr>\n",
       "    <tr>\n",
       "      <th>4</th>\n",
       "      <td>5</td>\n",
       "      <td>60</td>\n",
       "      <td>RL</td>\n",
       "      <td>84.0</td>\n",
       "      <td>14260</td>\n",
       "      <td>Pave</td>\n",
       "      <td>NaN</td>\n",
       "      <td>IR1</td>\n",
       "      <td>Lvl</td>\n",
       "      <td>AllPub</td>\n",
       "      <td>...</td>\n",
       "      <td>0</td>\n",
       "      <td>NaN</td>\n",
       "      <td>NaN</td>\n",
       "      <td>NaN</td>\n",
       "      <td>0</td>\n",
       "      <td>12</td>\n",
       "      <td>2008</td>\n",
       "      <td>WD</td>\n",
       "      <td>Normal</td>\n",
       "      <td>250000</td>\n",
       "    </tr>\n",
       "  </tbody>\n",
       "</table>\n",
       "<p>5 rows × 81 columns</p>\n",
       "</div>"
      ],
      "text/plain": [
       "   Id  MSSubClass MSZoning  LotFrontage  LotArea Street Alley LotShape  \\\n",
       "0   1          60       RL         65.0     8450   Pave   NaN      Reg   \n",
       "1   2          20       RL         80.0     9600   Pave   NaN      Reg   \n",
       "2   3          60       RL         68.0    11250   Pave   NaN      IR1   \n",
       "3   4          70       RL         60.0     9550   Pave   NaN      IR1   \n",
       "4   5          60       RL         84.0    14260   Pave   NaN      IR1   \n",
       "\n",
       "  LandContour Utilities  ... PoolArea PoolQC Fence MiscFeature MiscVal MoSold  \\\n",
       "0         Lvl    AllPub  ...        0    NaN   NaN         NaN       0      2   \n",
       "1         Lvl    AllPub  ...        0    NaN   NaN         NaN       0      5   \n",
       "2         Lvl    AllPub  ...        0    NaN   NaN         NaN       0      9   \n",
       "3         Lvl    AllPub  ...        0    NaN   NaN         NaN       0      2   \n",
       "4         Lvl    AllPub  ...        0    NaN   NaN         NaN       0     12   \n",
       "\n",
       "  YrSold  SaleType  SaleCondition  SalePrice  \n",
       "0   2008        WD         Normal     208500  \n",
       "1   2007        WD         Normal     181500  \n",
       "2   2008        WD         Normal     223500  \n",
       "3   2006        WD        Abnorml     140000  \n",
       "4   2008        WD         Normal     250000  \n",
       "\n",
       "[5 rows x 81 columns]"
      ]
     },
     "execution_count": 1,
     "metadata": {},
     "output_type": "execute_result"
    }
   ],
   "source": [
    "import pandas as pd\n",
    "\n",
    "# file path \n",
    "filepath = 'train.csv'\n",
    "\n",
    "# read csv \n",
    "train_data = pd.read_csv(filepath)\n",
    "\n",
    "# view first 5 rows of data\n",
    "train_data.head()"
   ]
  },
  {
   "cell_type": "markdown",
   "id": "insured-shirt",
   "metadata": {},
   "source": [
    "# Task 2: Inspect data\n",
    "\n",
    "Although we do see a whole column filled with `NaN`, we're going to disregard it in this case since if you refer to the `data_description.txt` you'll see that the `NaN` indicate that the houses did not have whatever the column name states. It does not mean that data wasn't recorded for it.\n",
    "\n",
    "We can continue to inspecting our data to see what our prediction target is and what features we want to select for our model."
   ]
  },
  {
   "cell_type": "code",
   "execution_count": 2,
   "id": "tamil-button",
   "metadata": {},
   "outputs": [
    {
     "data": {
      "text/plain": [
       "Index(['Id', 'MSSubClass', 'MSZoning', 'LotFrontage', 'LotArea', 'Street',\n",
       "       'Alley', 'LotShape', 'LandContour', 'Utilities', 'LotConfig',\n",
       "       'LandSlope', 'Neighborhood', 'Condition1', 'Condition2', 'BldgType',\n",
       "       'HouseStyle', 'OverallQual', 'OverallCond', 'YearBuilt', 'YearRemodAdd',\n",
       "       'RoofStyle', 'RoofMatl', 'Exterior1st', 'Exterior2nd', 'MasVnrType',\n",
       "       'MasVnrArea', 'ExterQual', 'ExterCond', 'Foundation', 'BsmtQual',\n",
       "       'BsmtCond', 'BsmtExposure', 'BsmtFinType1', 'BsmtFinSF1',\n",
       "       'BsmtFinType2', 'BsmtFinSF2', 'BsmtUnfSF', 'TotalBsmtSF', 'Heating',\n",
       "       'HeatingQC', 'CentralAir', 'Electrical', '1stFlrSF', '2ndFlrSF',\n",
       "       'LowQualFinSF', 'GrLivArea', 'BsmtFullBath', 'BsmtHalfBath', 'FullBath',\n",
       "       'HalfBath', 'BedroomAbvGr', 'KitchenAbvGr', 'KitchenQual',\n",
       "       'TotRmsAbvGrd', 'Functional', 'Fireplaces', 'FireplaceQu', 'GarageType',\n",
       "       'GarageYrBlt', 'GarageFinish', 'GarageCars', 'GarageArea', 'GarageQual',\n",
       "       'GarageCond', 'PavedDrive', 'WoodDeckSF', 'OpenPorchSF',\n",
       "       'EnclosedPorch', '3SsnPorch', 'ScreenPorch', 'PoolArea', 'PoolQC',\n",
       "       'Fence', 'MiscFeature', 'MiscVal', 'MoSold', 'YrSold', 'SaleType',\n",
       "       'SaleCondition', 'SalePrice'],\n",
       "      dtype='object')"
      ]
     },
     "execution_count": 2,
     "metadata": {},
     "output_type": "execute_result"
    }
   ],
   "source": [
    "# use .columns to view the column names in the data\n",
    "train_data.columns"
   ]
  },
  {
   "cell_type": "markdown",
   "id": "polyphonic-ferry",
   "metadata": {},
   "source": [
    "## Task 2.1 Defining the prediction target and features\n",
    "In the Intro to Machine Learning course, I'll start off with the given features listed in the tutorial. As I advance within the course, I'll figure out ways to improve my model and add more features.\n",
    "\n",
    "For now, I'll use the following features: `['LotArea', 'YearBuilt', '1stFlrSF', '2ndFlrSF', 'FullBath', 'BedroomAbvGr', 'TotRmsAbvGrd']`\n",
    "\n",
    "And since we're dealing with housing prices, our prediction target will be `SalePrice`"
   ]
  },
  {
   "cell_type": "code",
   "execution_count": 3,
   "id": "prerequisite-manor",
   "metadata": {},
   "outputs": [],
   "source": [
    "# Edit date: 03/24/2021 \n",
    "\n",
    "# defining prediction target\n",
    "y = train_data.SalePrice\n",
    "\n",
    "# choosing features\n",
    "features = ['LotArea', 'YearBuilt', '1stFlrSF', '2ndFlrSF', 'FullBath', 'BedroomAbvGr', 'TotRmsAbvGrd']\n",
    "\n",
    "# defining features\n",
    "X = train_data[features]"
   ]
  },
  {
   "cell_type": "markdown",
   "id": "double-advertising",
   "metadata": {},
   "source": [
    "# Task 3: Split the data\n",
    "\n",
    "Before we start building our model and making predictions, we'll have to split the data into two sets: training data & validation data\n",
    "\n",
    "**Why?** When we fit the model, the patterns are derived from the training data, meaning that if we make predictions using the training data then our model will appear very accurate. If it were given new data, then model would produce very inaccurate predictions.\n",
    "\n",
    "Therefore, we'll use `train_test_split` function from `sklearn.model_selection` to split our data into two different datasets. "
   ]
  },
  {
   "cell_type": "code",
   "execution_count": 4,
   "id": "developed-shield",
   "metadata": {},
   "outputs": [],
   "source": [
    "# import the train_test_split function\n",
    "from sklearn.model_selection import train_test_split\n",
    "\n",
    "# define our two separate X and y\n",
    "train_X, val_X, train_y, val_y = train_test_split(X, y, random_state = 0) # specify a number for random_state to \n",
    "                                                                        # ensure same results each run"
   ]
  },
  {
   "cell_type": "markdown",
   "id": "miniature-registration",
   "metadata": {},
   "source": [
    "# Task 4: Build model with training data\n",
    "### Subtasks:\n",
    "1. Find `best_tree_size` from `max_leaf_node`\n",
    "2. Make validation predictions \n",
    "    * when not specifying `max_leaf_node` \n",
    "    * specifying `max_leaf_node`\n",
    "    * using RandomForestRegressor\n",
    "    \n",
    "We'll first build our model using our training data and build 3 different models to see which produces the lowest MAE (mean absolute error).\n",
    "\n",
    "**Mean Absolute Error**: The average of the prediction errors found in the model\n",
    "\n",
    "In summary, `max_leaf_node` is a list of values on how deep we want our tree. This helps in controlling underfitting vs. overfitting. We'll pick the `best_tree_size`, which is the leaf node with minimum MAE.\n",
    "\n",
    "Ive already created a function called `get_mae` that'll perform that process, so all we'll do is import it."
   ]
  },
  {
   "cell_type": "code",
   "execution_count": 6,
   "id": "internal-strain",
   "metadata": {},
   "outputs": [],
   "source": [
    "from find_maxleafnode import get_mae"
   ]
  },
  {
   "cell_type": "markdown",
   "id": "future-intermediate",
   "metadata": {},
   "source": [
    "Now, let's find our best tree size"
   ]
  },
  {
   "cell_type": "code",
   "execution_count": 7,
   "id": "transparent-orlando",
   "metadata": {},
   "outputs": [
    {
     "data": {
      "text/plain": [
       "{50: 27825.888386265695}"
      ]
     },
     "execution_count": 7,
     "metadata": {},
     "output_type": "execute_result"
    }
   ],
   "source": [
    "# set list of potential tree depth \n",
    "candidate_max_leaf_nodes = [5, 25, 50, 100, 250, 500]\n",
    "\n",
    "# use list comprehension to create a dictionary of each leaf node corresponding to its MAE\n",
    "scores = {leaf_node: get_mae(leaf_node, train_X, val_X, train_y, val_y) for leaf_node in candidate_max_leaf_nodes}\n",
    "\n",
    "# define best tree: min leaf_node and its MAE\n",
    "best_tree= {min(scores, key=scores.get) : min(scores.values())}\n",
    "\n",
    "# define best_tree_size\n",
    "best_tree_size = min(scores, key=scores.get)\n",
    "\n",
    "# view best_tree\n",
    "best_tree"
   ]
  },
  {
   "cell_type": "markdown",
   "id": "strategic-provider",
   "metadata": {},
   "source": [
    "## Task 4.1 Make predictions\n",
    "Now that the hard part is over with, all we'll have to do is plug in our variables into our model and see what predictions we get. \n",
    "\n",
    "We'll use `DecisionTreeRegressor` and `RandomForestRegressor` as our models.\n",
    "\n",
    "**Decision Trees**: Decision Trees predict values based off of decisions made by splitting into \"leafs\" (nodes) from the given features\n",
    "\n",
    "**Random Forest**: The Random Forest model uses many decision trees and makes a prediction by averaging the predictions of each component tree."
   ]
  },
  {
   "cell_type": "code",
   "execution_count": 9,
   "id": "digital-builder",
   "metadata": {},
   "outputs": [],
   "source": [
    "# import all the necessary scikit-learn functions\n",
    "from sklearn.metrics import mean_absolute_error\n",
    "from sklearn.ensemble import RandomForestRegressor\n",
    "from sklearn.tree import DecisionTreeRegressor"
   ]
  },
  {
   "cell_type": "code",
   "execution_count": 10,
   "id": "special-pencil",
   "metadata": {},
   "outputs": [
    {
     "data": {
      "text/plain": [
       "DecisionTreeRegressor(random_state=0)"
      ]
     },
     "execution_count": 10,
     "metadata": {},
     "output_type": "execute_result"
    }
   ],
   "source": [
    "# define model \n",
    "train_model = DecisionTreeRegressor(random_state=0)\n",
    "\n",
    "# fit model\n",
    "train_model.fit(train_X, train_y)"
   ]
  },
  {
   "cell_type": "code",
   "execution_count": 11,
   "id": "contained-investigation",
   "metadata": {},
   "outputs": [
    {
     "name": "stdout",
     "output_type": "stream",
     "text": [
      "Validation Mean absolute error without specifing max_leaf nodes: 32,411\n"
     ]
    }
   ],
   "source": [
    "# make validation predictions and calculate mean absolute error w/out specifying max_leaf_nodes\n",
    "val_predictions = train_model.predict(val_X)\n",
    "val_mae = mean_absolute_error(val_y, val_predictions)\n",
    "print(\"Validation Mean absolute error without specifing max_leaf nodes: {:,.0f}\".format(val_mae))"
   ]
  },
  {
   "cell_type": "code",
   "execution_count": 12,
   "id": "fiscal-allergy",
   "metadata": {},
   "outputs": [
    {
     "name": "stdout",
     "output_type": "stream",
     "text": [
      "Validation Mean absolute error for best value of max_leaf_node: 27,826\n"
     ]
    }
   ],
   "source": [
    "# redefine model with best_tree_size\n",
    "train_model = DecisionTreeRegressor(max_leaf_nodes=50, random_state=0)\n",
    "\n",
    "# fit model\n",
    "train_model.fit(train_X,train_y)\n",
    "\n",
    "# calculating MAE using max_leaf_node \n",
    "val_predictions = train_model.predict(val_X)\n",
    "val_mae = mean_absolute_error(val_y, val_predictions)\n",
    "print(\"Validation Mean absolute error for best value of max_leaf_node: {:,.0f}\".format(val_mae))"
   ]
  },
  {
   "cell_type": "code",
   "execution_count": 13,
   "id": "circular-hormone",
   "metadata": {},
   "outputs": [
    {
     "name": "stdout",
     "output_type": "stream",
     "text": [
      "Validation Mean absolute error for RandomForest Model: 23,093\n"
     ]
    }
   ],
   "source": [
    "# define RandomForestRegressor model\n",
    "rf_model = RandomForestRegressor(random_state=0)\n",
    "\n",
    "# fit model\n",
    "rf_model.fit(train_X, train_y)\n",
    "\n",
    "# make predictions using RandomForestRegressor\n",
    "rf_val_predictions = rf_model.predict(val_X)\n",
    "rf_val_mae = mean_absolute_error(val_y, rf_val_predictions)\n",
    "print(\"Validation Mean absolute error for RandomForest Model: {:,.0f}\".format(rf_val_mae))"
   ]
  },
  {
   "cell_type": "markdown",
   "id": "likely-southeast",
   "metadata": {},
   "source": [
    "It seems that the `RandomForestRegressor` model predicts a smaller MAE at 23,093. With that information, I'll use the `RandomForestRegressor` to create a model for the competition."
   ]
  },
  {
   "cell_type": "markdown",
   "id": "chief-swiss",
   "metadata": {},
   "source": [
    "# Task 5: Create model for competition\n",
    "\n",
    "For better accuracy, I'll create a new model and train it on all the training data before making predictions from the data in `test.csv`"
   ]
  },
  {
   "cell_type": "code",
   "execution_count": 14,
   "id": "muslim-fifteen",
   "metadata": {},
   "outputs": [
    {
     "data": {
      "text/plain": [
       "RandomForestRegressor(random_state=0)"
      ]
     },
     "execution_count": 14,
     "metadata": {},
     "output_type": "execute_result"
    }
   ],
   "source": [
    "# build RF model and train it on all X and y \n",
    "rf_model_full_data = RandomForestRegressor(random_state=0)\n",
    "rf_model_full_data.fit(X,y)"
   ]
  },
  {
   "cell_type": "code",
   "execution_count": 15,
   "id": "jewish-discharge",
   "metadata": {},
   "outputs": [],
   "source": [
    "# load data from test.csv\n",
    "test_data = pd.read_csv('test.csv')\n",
    "\n",
    "# create test_X which includes the columns from the predictions and applies it to the test_data\n",
    "test_X= test_data[features]\n",
    "\n",
    "# make predictions for the competition\n",
    "test_pred = rf_model_full_data.predict(test_X)"
   ]
  },
  {
   "cell_type": "markdown",
   "id": "confident-devices",
   "metadata": {},
   "source": [
    "Since this was part of Kaggle's **Intro to Machine Learning** course, we were to submit our model into the *Housing Prices Competiton for Kaggle Learn Users*. "
   ]
  },
  {
   "cell_type": "code",
   "execution_count": 16,
   "id": "operating-forward",
   "metadata": {},
   "outputs": [],
   "source": [
    "# use pandas to create .csv with selected data\n",
    "output = pd.DataFrame({'Id': test_data.Id,\n",
    "                      'SalePrice': test_pred})\n",
    "output.to_csv('submission.csv', index=False)"
   ]
  },
  {
   "cell_type": "markdown",
   "id": "occasional-finger",
   "metadata": {},
   "source": [
    "# Conclusion\n",
    "\n",
    "This course went into the basics of:\n",
    "\n",
    "1. Building our first model\n",
    "2. Validating our model (i.e splitting our data)\n",
    "3. Making sure we don't underfit or overfit our model\n",
    "4. Learning about **Decision Trees** & **Random Forests**\n",
    "5. Importance of Mean Absolute Error\n",
    "6. Testing our model\n",
    "\n",
    "I learned enough to gain a general understanding on how machine learning works and the overall framework of building a model to testing it on new data. \n",
    "\n",
    "#### My next steps are:\n",
    "\n",
    "1. Learning about the different types of Machine Learning (i.e Supervised, Unsupervised, etc.)\n",
    "2. Figuring out how to choose the best features for the model (Feature Engineering)\n",
    "3. Creating Visualizations of the model "
   ]
  }
 ],
 "metadata": {
  "kernelspec": {
   "display_name": "Python [conda env:datascience]",
   "language": "python",
   "name": "conda-env-datascience-py"
  },
  "language_info": {
   "codemirror_mode": {
    "name": "ipython",
    "version": 3
   },
   "file_extension": ".py",
   "mimetype": "text/x-python",
   "name": "python",
   "nbconvert_exporter": "python",
   "pygments_lexer": "ipython3",
   "version": "3.8.8"
  }
 },
 "nbformat": 4,
 "nbformat_minor": 5
}

{
 "cells": [
  {
   "cell_type": "markdown",
   "metadata": {},
   "source": [
    "# U.S. Medical Insurance Costs"
   ]
  },
  {
   "cell_type": "markdown",
   "metadata": {},
   "source": [
    "### Scope and Understand the Data"
   ]
  },
  {
   "cell_type": "code",
   "execution_count": 3,
   "metadata": {},
   "outputs": [
    {
     "data": {
      "text/html": [
       "<div>\n",
       "<style scoped>\n",
       "    .dataframe tbody tr th:only-of-type {\n",
       "        vertical-align: middle;\n",
       "    }\n",
       "\n",
       "    .dataframe tbody tr th {\n",
       "        vertical-align: top;\n",
       "    }\n",
       "\n",
       "    .dataframe thead th {\n",
       "        text-align: right;\n",
       "    }\n",
       "</style>\n",
       "<table border=\"1\" class=\"dataframe\">\n",
       "  <thead>\n",
       "    <tr style=\"text-align: right;\">\n",
       "      <th></th>\n",
       "      <th>Age</th>\n",
       "      <th>Sex</th>\n",
       "      <th>BMI</th>\n",
       "      <th># of Children</th>\n",
       "      <th>Smoker (Yes/No)</th>\n",
       "      <th>Region</th>\n",
       "      <th>Charges (USD $)</th>\n",
       "    </tr>\n",
       "  </thead>\n",
       "  <tbody>\n",
       "    <tr>\n",
       "      <th>0</th>\n",
       "      <td>19</td>\n",
       "      <td>female</td>\n",
       "      <td>27.900</td>\n",
       "      <td>0</td>\n",
       "      <td>yes</td>\n",
       "      <td>southwest</td>\n",
       "      <td>16884.92</td>\n",
       "    </tr>\n",
       "    <tr>\n",
       "      <th>1</th>\n",
       "      <td>18</td>\n",
       "      <td>male</td>\n",
       "      <td>33.770</td>\n",
       "      <td>1</td>\n",
       "      <td>no</td>\n",
       "      <td>southeast</td>\n",
       "      <td>1725.55</td>\n",
       "    </tr>\n",
       "    <tr>\n",
       "      <th>2</th>\n",
       "      <td>28</td>\n",
       "      <td>male</td>\n",
       "      <td>33.000</td>\n",
       "      <td>3</td>\n",
       "      <td>no</td>\n",
       "      <td>southeast</td>\n",
       "      <td>4449.46</td>\n",
       "    </tr>\n",
       "    <tr>\n",
       "      <th>3</th>\n",
       "      <td>33</td>\n",
       "      <td>male</td>\n",
       "      <td>22.705</td>\n",
       "      <td>0</td>\n",
       "      <td>no</td>\n",
       "      <td>northwest</td>\n",
       "      <td>21984.47</td>\n",
       "    </tr>\n",
       "    <tr>\n",
       "      <th>4</th>\n",
       "      <td>32</td>\n",
       "      <td>male</td>\n",
       "      <td>28.880</td>\n",
       "      <td>0</td>\n",
       "      <td>no</td>\n",
       "      <td>northwest</td>\n",
       "      <td>3866.86</td>\n",
       "    </tr>\n",
       "  </tbody>\n",
       "</table>\n",
       "</div>"
      ],
      "text/plain": [
       "   Age     Sex     BMI  # of Children Smoker (Yes/No)     Region  \\\n",
       "0   19  female  27.900              0             yes  southwest   \n",
       "1   18    male  33.770              1              no  southeast   \n",
       "2   28    male  33.000              3              no  southeast   \n",
       "3   33    male  22.705              0              no  northwest   \n",
       "4   32    male  28.880              0              no  northwest   \n",
       "\n",
       "   Charges (USD $)  \n",
       "0         16884.92  \n",
       "1          1725.55  \n",
       "2          4449.46  \n",
       "3         21984.47  \n",
       "4          3866.86  "
      ]
     },
     "execution_count": 3,
     "metadata": {},
     "output_type": "execute_result"
    }
   ],
   "source": [
    "# import the necessary python libraries to read the data in the csv provided\n",
    "\n",
    "import pandas as pd\n",
    "insurance = pd.read_csv('insurance.csv')\n",
    "\n",
    "# change column name for better readability\n",
    "insurance.columns = ['Age', 'Sex', 'BMI', '# of Children', 'Smoker (Yes/No)', 'Region', 'Charges (USD $)']\n",
    "\n",
    "# to make things more readable, let's round the values in the charges column to 2 decimal places\n",
    "insurance['Charges (USD $)'] = insurance['Charges (USD $)'].apply(lambda x: round(x,2))\n",
    "insurance.head()"
   ]
  },
  {
   "cell_type": "markdown",
   "metadata": {},
   "source": [
    "### Parts of the Data:\n",
    "The data contains the following information about the patients:\n",
    "* Age\n",
    "* Sex\n",
    "* BMI\n",
    "* Number of Children\n",
    "* Smoker/Non-Smoker\n",
    "* Region\n",
    "* Insurance Charges based off the above information\n",
    "\n",
    "## Project Goals\n",
    "After reviewing the data, here are some things I would like to analyze and find if there are any relationships:\n",
    "* **Task 1:** What is the average age of the patients in the dataset?\n",
    "* **Task 2:** Where are the majority of the patients from?\n",
    "* **Task 3:** What is the average age of someone with at least one child?\n",
    "* **Task 4:** Does a person's BMI have a major effect on their insurance costs?\n",
    "* **Task 5:** Does the region where the person is located affect insurance costs?\n",
    "* **Task 6:** Would a **smoker with no children** have similar insurance charges as a **non-smoker with children**?"
   ]
  },
  {
   "cell_type": "markdown",
   "metadata": {},
   "source": [
    "#### Task 1: Finding the average age of the patients in the dataset"
   ]
  },
  {
   "cell_type": "code",
   "execution_count": 21,
   "metadata": {},
   "outputs": [
    {
     "name": "stdout",
     "output_type": "stream",
     "text": [
      "The average age of the patients in the dataset is 39.\n"
     ]
    }
   ],
   "source": [
    "# grab the age column in the data \n",
    "# use pandas feature .mean() to find the average age across that column\n",
    "age = insurance['Age']\n",
    "average_age = age.mean()\n",
    "# std_age = age.std()\n",
    "print(f\"The average age of the patients in the dataset is {int(average_age)}.\")\n",
    "\n",
    "import matplotlib.pyplot as plt\n",
    "import seaborn as sns\n",
    "\n",
    "# sns.displot(data=insurance, x='Age',kind = 'hist')\n",
    "# plt.title(\"Number of Patients in Each Age Range (18-64 Years Old)\")\n",
    "# plt.ylabel(\"Patients\")\n",
    "# plt.show()\n"
   ]
  },
  {
   "cell_type": "markdown",
   "metadata": {},
   "source": [
    "After finding the average age of all the patients, I now want to look at the average age of the women and the men"
   ]
  },
  {
   "cell_type": "code",
   "execution_count": 24,
   "metadata": {},
   "outputs": [
    {
     "name": "stdout",
     "output_type": "stream",
     "text": [
      "The average age of females in the dataset is 39 and the average age of the males is 38\n"
     ]
    },
    {
     "data": {
      "image/png": "[encoded data removed]",
      "text/plain": [
       "<Figure size 430.5x360 with 1 Axes>"
      ]
     },
     "metadata": {
      "needs_background": "light"
     },
     "output_type": "display_data"
    }
   ],
   "source": [
    "# use pandas .groupby() to group average age by \"male\" and \"female\"\n",
    "sex_average_age = insurance.groupby('Sex').Age.mean().reset_index()\n",
    "\n",
    "print(f\"The average age of females in the dataset is {int(sex_average_age.Age[0])} and the average age of the males is {int(sex_average_age.Age[1])}\")\n",
    "\n",
    "import matplotlib.pyplot as plt\n",
    "import seaborn as sns\n",
    "\n",
    "sns.displot(data=insurance, x='Age',hue= 'Sex', kind = 'kde',fill=True)\n",
    "plt.title(\"Number of Patients in Each Age Range (18-64 Years Old)\")\n",
    "plt.ylabel(\"Patients\")\n",
    "plt.show()"
   ]
  },
  {
   "cell_type": "markdown",
   "metadata": {},
   "source": [
    "**Task 1 Results**:\n",
    "\n",
    "The average age of **all** the patients is **39 years old**\n",
    "\n",
    "The average age of:\n",
    "* Females: **39 years old**\n",
    "* Males: **38 years old**"
   ]
  },
  {
   "cell_type": "markdown",
   "metadata": {},
   "source": [
    "#### Task 2: Find where the majority of the patients are from "
   ]
  },
  {
   "cell_type": "code",
   "execution_count": 82,
   "metadata": {},
   "outputs": [
    {
     "data": {
      "text/html": [
       "<div>\n",
       "<style scoped>\n",
       "    .dataframe tbody tr th:only-of-type {\n",
       "        vertical-align: middle;\n",
       "    }\n",
       "\n",
       "    .dataframe tbody tr th {\n",
       "        vertical-align: top;\n",
       "    }\n",
       "\n",
       "    .dataframe thead th {\n",
       "        text-align: right;\n",
       "    }\n",
       "</style>\n",
       "<table border=\"1\" class=\"dataframe\">\n",
       "  <thead>\n",
       "    <tr style=\"text-align: right;\">\n",
       "      <th></th>\n",
       "      <th>Region</th>\n",
       "      <th>Age</th>\n",
       "    </tr>\n",
       "  </thead>\n",
       "  <tbody>\n",
       "    <tr>\n",
       "      <th>0</th>\n",
       "      <td>northeast</td>\n",
       "      <td>324</td>\n",
       "    </tr>\n",
       "    <tr>\n",
       "      <th>1</th>\n",
       "      <td>northwest</td>\n",
       "      <td>325</td>\n",
       "    </tr>\n",
       "    <tr>\n",
       "      <th>2</th>\n",
       "      <td>southeast</td>\n",
       "      <td>364</td>\n",
       "    </tr>\n",
       "    <tr>\n",
       "      <th>3</th>\n",
       "      <td>southwest</td>\n",
       "      <td>325</td>\n",
       "    </tr>\n",
       "  </tbody>\n",
       "</table>\n",
       "</div>"
      ],
      "text/plain": [
       "      Region  Age\n",
       "0  northeast  324\n",
       "1  northwest  325\n",
       "2  southeast  364\n",
       "3  southwest  325"
      ]
     },
     "execution_count": 82,
     "metadata": {},
     "output_type": "execute_result"
    }
   ],
   "source": [
    "# view the region column\n",
    "region = insurance.groupby(['Region']).Age.count().reset_index()\n",
    "region"
   ]
  },
  {
   "cell_type": "markdown",
   "metadata": {},
   "source": [
    "The dataframe shows that the majority of the patients are from the Southeast with a total of **364** patients\n",
    "\n",
    "#### Task 2.1\n",
    "I now want to take a look and see which region has the most smokers. \n",
    "\n",
    "**Hypothesis: The region with the most smokers will have the higher charges of insurance costs**"
   ]
  },
  {
   "cell_type": "code",
   "execution_count": 61,
   "metadata": {},
   "outputs": [
    {
     "data": {
      "text/html": [
       "<div>\n",
       "<style scoped>\n",
       "    .dataframe tbody tr th:only-of-type {\n",
       "        vertical-align: middle;\n",
       "    }\n",
       "\n",
       "    .dataframe tbody tr th {\n",
       "        vertical-align: top;\n",
       "    }\n",
       "\n",
       "    .dataframe thead th {\n",
       "        text-align: right;\n",
       "    }\n",
       "</style>\n",
       "<table border=\"1\" class=\"dataframe\">\n",
       "  <thead>\n",
       "    <tr style=\"text-align: right;\">\n",
       "      <th>Smoker (Yes/No)</th>\n",
       "      <th>Region</th>\n",
       "      <th>no</th>\n",
       "      <th>yes</th>\n",
       "    </tr>\n",
       "  </thead>\n",
       "  <tbody>\n",
       "    <tr>\n",
       "      <th>0</th>\n",
       "      <td>northeast</td>\n",
       "      <td>257</td>\n",
       "      <td>67</td>\n",
       "    </tr>\n",
       "    <tr>\n",
       "      <th>1</th>\n",
       "      <td>northwest</td>\n",
       "      <td>267</td>\n",
       "      <td>58</td>\n",
       "    </tr>\n",
       "    <tr>\n",
       "      <th>2</th>\n",
       "      <td>southeast</td>\n",
       "      <td>273</td>\n",
       "      <td>91</td>\n",
       "    </tr>\n",
       "    <tr>\n",
       "      <th>3</th>\n",
       "      <td>southwest</td>\n",
       "      <td>267</td>\n",
       "      <td>58</td>\n",
       "    </tr>\n",
       "  </tbody>\n",
       "</table>\n",
       "</div>"
      ],
      "text/plain": [
       "Smoker (Yes/No)     Region   no  yes\n",
       "0                northeast  257   67\n",
       "1                northwest  267   58\n",
       "2                southeast  273   91\n",
       "3                southwest  267   58"
      ]
     },
     "execution_count": 61,
     "metadata": {},
     "output_type": "execute_result"
    }
   ],
   "source": [
    "smokers = insurance.groupby(['Smoker (Yes/No)','Region']).count().reset_index()\n",
    "# smokers\n",
    "\n",
    "# make it more readable by converting it into a pivot table -> take smoker and region column\n",
    "smokers_pivoted = smokers.pivot(\n",
    "    columns = 'Smoker (Yes/No)',\n",
    "    index = 'Region',\n",
    "    values='Age').reset_index()\n",
    "\n",
    "smokers_pivoted"
   ]
  },
  {
   "cell_type": "markdown",
   "metadata": {},
   "source": [
    "According to the dataframe, the **southeast** consists of the most smokers (91 patients) and non-smokers (273 patients)\n",
    "\n",
    "*Now*, let's calculate the average cost of insurance for smokers in each region"
   ]
  },
  {
   "cell_type": "code",
   "execution_count": 83,
   "metadata": {},
   "outputs": [
    {
     "data": {
      "text/html": [
       "<div>\n",
       "<style scoped>\n",
       "    .dataframe tbody tr th:only-of-type {\n",
       "        vertical-align: middle;\n",
       "    }\n",
       "\n",
       "    .dataframe tbody tr th {\n",
       "        vertical-align: top;\n",
       "    }\n",
       "\n",
       "    .dataframe thead th {\n",
       "        text-align: right;\n",
       "    }\n",
       "</style>\n",
       "<table border=\"1\" class=\"dataframe\">\n",
       "  <thead>\n",
       "    <tr style=\"text-align: right;\">\n",
       "      <th></th>\n",
       "      <th>Region</th>\n",
       "      <th>Smoker (Yes/No)</th>\n",
       "      <th>Charges (USD $)</th>\n",
       "    </tr>\n",
       "  </thead>\n",
       "  <tbody>\n",
       "    <tr>\n",
       "      <th>0</th>\n",
       "      <td>northeast</td>\n",
       "      <td>no</td>\n",
       "      <td>9165.53</td>\n",
       "    </tr>\n",
       "    <tr>\n",
       "      <th>1</th>\n",
       "      <td>northeast</td>\n",
       "      <td>yes</td>\n",
       "      <td>29673.54</td>\n",
       "    </tr>\n",
       "    <tr>\n",
       "      <th>2</th>\n",
       "      <td>northwest</td>\n",
       "      <td>no</td>\n",
       "      <td>8556.46</td>\n",
       "    </tr>\n",
       "    <tr>\n",
       "      <th>3</th>\n",
       "      <td>northwest</td>\n",
       "      <td>yes</td>\n",
       "      <td>30192.00</td>\n",
       "    </tr>\n",
       "    <tr>\n",
       "      <th>4</th>\n",
       "      <td>southeast</td>\n",
       "      <td>no</td>\n",
       "      <td>8032.22</td>\n",
       "    </tr>\n",
       "    <tr>\n",
       "      <th>5</th>\n",
       "      <td>southeast</td>\n",
       "      <td>yes</td>\n",
       "      <td>34845.00</td>\n",
       "    </tr>\n",
       "    <tr>\n",
       "      <th>6</th>\n",
       "      <td>southwest</td>\n",
       "      <td>no</td>\n",
       "      <td>8019.28</td>\n",
       "    </tr>\n",
       "    <tr>\n",
       "      <th>7</th>\n",
       "      <td>southwest</td>\n",
       "      <td>yes</td>\n",
       "      <td>32269.06</td>\n",
       "    </tr>\n",
       "  </tbody>\n",
       "</table>\n",
       "</div>"
      ],
      "text/plain": [
       "      Region Smoker (Yes/No)  Charges (USD $)\n",
       "0  northeast              no          9165.53\n",
       "1  northeast             yes         29673.54\n",
       "2  northwest              no          8556.46\n",
       "3  northwest             yes         30192.00\n",
       "4  southeast              no          8032.22\n",
       "5  southeast             yes         34845.00\n",
       "6  southwest              no          8019.28\n",
       "7  southwest             yes         32269.06"
      ]
     },
     "execution_count": 83,
     "metadata": {},
     "output_type": "execute_result"
    }
   ],
   "source": [
    "cost_of_insurance = insurance.groupby(['Region', 'Smoker (Yes/No)'])['Charges (USD $)'].mean().round(2).reset_index()\n",
    "cost_of_insurance"
   ]
  },
  {
   "cell_type": "code",
   "execution_count": 81,
   "metadata": {},
   "outputs": [
    {
     "data": {
      "text/html": [
       "<div>\n",
       "<style scoped>\n",
       "    .dataframe tbody tr th:only-of-type {\n",
       "        vertical-align: middle;\n",
       "    }\n",
       "\n",
       "    .dataframe tbody tr th {\n",
       "        vertical-align: top;\n",
       "    }\n",
       "\n",
       "    .dataframe thead th {\n",
       "        text-align: right;\n",
       "    }\n",
       "</style>\n",
       "<table border=\"1\" class=\"dataframe\">\n",
       "  <thead>\n",
       "    <tr style=\"text-align: right;\">\n",
       "      <th>Smoker (Yes/No)</th>\n",
       "      <th>no</th>\n",
       "      <th>yes</th>\n",
       "    </tr>\n",
       "    <tr>\n",
       "      <th>Region</th>\n",
       "      <th></th>\n",
       "      <th></th>\n",
       "    </tr>\n",
       "  </thead>\n",
       "  <tbody>\n",
       "    <tr>\n",
       "      <th>northeast</th>\n",
       "      <td>9165.53</td>\n",
       "      <td>29673.54</td>\n",
       "    </tr>\n",
       "    <tr>\n",
       "      <th>northwest</th>\n",
       "      <td>8556.46</td>\n",
       "      <td>30192.00</td>\n",
       "    </tr>\n",
       "    <tr>\n",
       "      <th>southeast</th>\n",
       "      <td>8032.22</td>\n",
       "      <td>34845.00</td>\n",
       "    </tr>\n",
       "    <tr>\n",
       "      <th>southwest</th>\n",
       "      <td>8019.28</td>\n",
       "      <td>32269.06</td>\n",
       "    </tr>\n",
       "  </tbody>\n",
       "</table>\n",
       "</div>"
      ],
      "text/plain": [
       "Smoker (Yes/No)       no       yes\n",
       "Region                            \n",
       "northeast        9165.53  29673.54\n",
       "northwest        8556.46  30192.00\n",
       "southeast        8032.22  34845.00\n",
       "southwest        8019.28  32269.06"
      ]
     },
     "execution_count": 81,
     "metadata": {},
     "output_type": "execute_result"
    }
   ],
   "source": [
    "# pivot table for readability\n",
    "cost_of_insurance_pivoted = cost_of_insurance.pivot(\n",
    "columns = 'Smoker (Yes/No)',\n",
    "index = 'Region',\n",
    "values = 'Charges (USD $)')\n",
    "\n",
    "cost_of_insurance_pivoted"
   ]
  },
  {
   "cell_type": "markdown",
   "metadata": {},
   "source": [
    "**Task 2 Results:**\n",
    "\n",
    "* The southeast indeed has the highest cost of insurance at **$34,845.00**\n",
    "\n",
    "*Other ideas to look at:*\n",
    "\n",
    "I noticed that the **northeast** has the highest insurance cost for **non-smokers** at **$9,165.53** and that makes me wonder why. I will look further into this after completing the set tasks I have currently."
   ]
  },
  {
   "cell_type": "markdown",
   "metadata": {},
   "source": [
    "#### Task 3: What is the average age of someone with at least one child?\n",
    "\n",
    "To approach this task, I will need to:\n",
    "* group the data by number of children \n",
    "* find the average age"
   ]
  },
  {
   "cell_type": "code",
   "execution_count": 88,
   "metadata": {},
   "outputs": [
    {
     "data": {
      "text/html": [
       "<div>\n",
       "<style scoped>\n",
       "    .dataframe tbody tr th:only-of-type {\n",
       "        vertical-align: middle;\n",
       "    }\n",
       "\n",
       "    .dataframe tbody tr th {\n",
       "        vertical-align: top;\n",
       "    }\n",
       "\n",
       "    .dataframe thead th {\n",
       "        text-align: right;\n",
       "    }\n",
       "</style>\n",
       "<table border=\"1\" class=\"dataframe\">\n",
       "  <thead>\n",
       "    <tr style=\"text-align: right;\">\n",
       "      <th></th>\n",
       "      <th># of Children</th>\n",
       "      <th>Age</th>\n",
       "    </tr>\n",
       "  </thead>\n",
       "  <tbody>\n",
       "    <tr>\n",
       "      <th>0</th>\n",
       "      <td>0</td>\n",
       "      <td>38.0</td>\n",
       "    </tr>\n",
       "    <tr>\n",
       "      <th>1</th>\n",
       "      <td>1</td>\n",
       "      <td>39.0</td>\n",
       "    </tr>\n",
       "    <tr>\n",
       "      <th>2</th>\n",
       "      <td>2</td>\n",
       "      <td>39.0</td>\n",
       "    </tr>\n",
       "    <tr>\n",
       "      <th>3</th>\n",
       "      <td>3</td>\n",
       "      <td>42.0</td>\n",
       "    </tr>\n",
       "    <tr>\n",
       "      <th>4</th>\n",
       "      <td>4</td>\n",
       "      <td>39.0</td>\n",
       "    </tr>\n",
       "    <tr>\n",
       "      <th>5</th>\n",
       "      <td>5</td>\n",
       "      <td>36.0</td>\n",
       "    </tr>\n",
       "  </tbody>\n",
       "</table>\n",
       "</div>"
      ],
      "text/plain": [
       "   # of Children   Age\n",
       "0              0  38.0\n",
       "1              1  39.0\n",
       "2              2  39.0\n",
       "3              3  42.0\n",
       "4              4  39.0\n",
       "5              5  36.0"
      ]
     },
     "execution_count": 88,
     "metadata": {},
     "output_type": "execute_result"
    }
   ],
   "source": [
    "num_children = insurance.groupby('# of Children').Age.mean().round(0).reset_index()\n",
    "num_children"
   ]
  },
  {
   "cell_type": "markdown",
   "metadata": {},
   "source": [
    "According to the table above, the average age of someone with at least one child is **39 years old**"
   ]
  },
  {
   "cell_type": "markdown",
   "metadata": {},
   "source": [
    "#### Task 4: Does BMI cause an effect on insurance costs?\n",
    "\n",
    "To tackle this task, I will need to:\n",
    "* find the min and max BMI value \n",
    "* find the average insurance cost between:\n",
    "    * min BMI to middle\n",
    "    * middle to max BMI"
   ]
  },
  {
   "cell_type": "code",
   "execution_count": 6,
   "metadata": {},
   "outputs": [
    {
     "name": "stdout",
     "output_type": "stream",
     "text": [
      "The median BMI in the dataset is 30.4\n"
     ]
    }
   ],
   "source": [
    "# bmi_min = insurance['BMI'].min()\n",
    "# print(f\"The minimum BMI in the dataset is {bmi_min}\")\n",
    "# bmi_max = insurance['BMI'].max()\n",
    "# print(f\"The maximum BMI in the dataset is {bmi_max}\")\n",
    "bmi_median = insurance['BMI'].median()\n",
    "print(f\"The median BMI in the dataset is {bmi_median}\")"
   ]
  },
  {
   "cell_type": "markdown",
   "metadata": {},
   "source": [
    "At this point, since I know the median value for the BMI data, I need to find the average insurance charges that's below the median and the average insurance cost above the median"
   ]
  },
  {
   "cell_type": "code",
   "execution_count": 8,
   "metadata": {},
   "outputs": [
    {
     "name": "stdout",
     "output_type": "stream",
     "text": [
      "The average insurance cost for patients whose BMI is below 30.4 is $10877.96.\n",
      "The average insurance cost for patients whose BMI is above 30.4 is $15655.74.\n",
      "The difference between the two is $4777.78\n"
     ]
    }
   ],
   "source": [
    "bmi_charges = insurance[['BMI', 'Charges (USD $)']]\n",
    "insurance_min = bmi_charges[bmi_charges['BMI'] < bmi_charges['BMI'].median()]\n",
    "insurance_max = bmi_charges[bmi_charges['BMI'] >= bmi_charges['BMI'].median()]\n",
    "print(f\"The average insurance cost for patients whose BMI is below {bmi_median} is ${insurance_min['Charges (USD $)'].mean().round(2)}.\")\n",
    "print(f\"The average insurance cost for patients whose BMI is above {bmi_median} is ${insurance_max['Charges (USD $)'].mean().round(2)}.\")\n",
    "print(f\"The difference between the two is ${round(insurance_max['Charges (USD $)'].mean() - insurance_min['Charges (USD $)'].mean(),2)}\")\n"
   ]
  },
  {
   "cell_type": "markdown",
   "metadata": {},
   "source": [
    "#### Task 4 Result:\n",
    "\n",
    "There seems to be roughly a $5000 difference between patients whose BMI is below the median. \n",
    "\n",
    "**Next Task:**\n",
    "\n",
    "To analyze further, I compare costs between the women and men and also by age to see if there are any major differences. \n"
   ]
  },
  {
   "cell_type": "markdown",
   "metadata": {},
   "source": [
    "#### Task 5: Does the region where the person is located affect insurance costs?"
   ]
  },
  {
   "cell_type": "code",
   "execution_count": 25,
   "metadata": {},
   "outputs": [
    {
     "data": {
      "text/html": [
       "<div>\n",
       "<style scoped>\n",
       "    .dataframe tbody tr th:only-of-type {\n",
       "        vertical-align: middle;\n",
       "    }\n",
       "\n",
       "    .dataframe tbody tr th {\n",
       "        vertical-align: top;\n",
       "    }\n",
       "\n",
       "    .dataframe thead th {\n",
       "        text-align: right;\n",
       "    }\n",
       "</style>\n",
       "<table border=\"1\" class=\"dataframe\">\n",
       "  <thead>\n",
       "    <tr style=\"text-align: right;\">\n",
       "      <th></th>\n",
       "      <th>Region</th>\n",
       "      <th>Charges (USD $)</th>\n",
       "    </tr>\n",
       "  </thead>\n",
       "  <tbody>\n",
       "    <tr>\n",
       "      <th>0</th>\n",
       "      <td>northeast</td>\n",
       "      <td>13406.384599</td>\n",
       "    </tr>\n",
       "    <tr>\n",
       "      <th>1</th>\n",
       "      <td>northwest</td>\n",
       "      <td>12417.575169</td>\n",
       "    </tr>\n",
       "    <tr>\n",
       "      <th>2</th>\n",
       "      <td>southeast</td>\n",
       "      <td>14735.411484</td>\n",
       "    </tr>\n",
       "    <tr>\n",
       "      <th>3</th>\n",
       "      <td>southwest</td>\n",
       "      <td>12346.937508</td>\n",
       "    </tr>\n",
       "  </tbody>\n",
       "</table>\n",
       "</div>"
      ],
      "text/plain": [
       "      Region  Charges (USD $)\n",
       "0  northeast     13406.384599\n",
       "1  northwest     12417.575169\n",
       "2  southeast     14735.411484\n",
       "3  southwest     12346.937508"
      ]
     },
     "execution_count": 25,
     "metadata": {},
     "output_type": "execute_result"
    }
   ],
   "source": [
    "region = insurance.groupby('Region')['Charges (USD $)'].mean().reset_index()\n",
    "region"
   ]
  }
 ],
 "metadata": {
  "kernelspec": {
   "display_name": "Python 3",
   "language": "python",
   "name": "python3"
  },
  "language_info": {
   "codemirror_mode": {
    "name": "ipython",
    "version": 3
   },
   "file_extension": ".py",
   "mimetype": "text/x-python",
   "name": "python",
   "nbconvert_exporter": "python",
   "pygments_lexer": "ipython3",
   "version": "3.8.5"
  }
 },
 "nbformat": 4,
 "nbformat_minor": 4
}
